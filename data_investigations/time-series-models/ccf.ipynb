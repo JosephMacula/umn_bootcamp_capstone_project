{
 "cells": [
  {
   "cell_type": "code",
   "execution_count": 197,
   "metadata": {},
   "outputs": [],
   "source": [
    "import pandas as pd\n",
    "import numpy as np\n",
    "import matplotlib.pyplot as plt\n",
    "from statsmodels.tsa.stattools import adfuller\n",
    "from statsmodels.graphics.tsaplots import plot_ccf"
   ]
  },
  {
   "cell_type": "code",
   "execution_count": 198,
   "metadata": {},
   "outputs": [
    {
     "name": "stderr",
     "output_type": "stream",
     "text": [
      "/var/folders/n0/qhjx1vrd1c1b846x7pqgmbg40000gn/T/ipykernel_45839/1357109160.py:2: UserWarning: Could not infer format, so each element will be parsed individually, falling back to `dateutil`. To ensure parsing is consistent and as-expected, please specify a format.\n",
      "  pmi_df = pd.read_csv(\"data/china-pmi.csv\", parse_dates=['date'], index_col='date')\n"
     ]
    }
   ],
   "source": [
    "# Load Data from Separate Files\n",
    "pmi_df = pd.read_csv(\"data/china-pmi.csv\", parse_dates=['date'], index_col='date')\n",
    "pmi_df.columns = ['pmi']\n",
    "\n",
    "def read_and_clean(filepath):\n",
    "    df = pd.read_csv(filepath)\n",
    "    data = df.copy()\n",
    "    data.date = pd.to_datetime(data.date)\n",
    "    data = data.sort_values(by='date', ascending=False)\n",
    "\n",
    "    data.columns = ['date','PM25','PM10','O3','NO2','SO2','CO']\n",
    "\n",
    "    for col in data.columns:\n",
    "        if col != \"date\":\n",
    "            data[col] = pd.to_numeric(data[col], errors='coerce')\n",
    "\n",
    "    return data\n",
    "\n",
    "pollution_df = read_and_clean('data/shanghai.csv')"
   ]
  },
  {
   "cell_type": "code",
   "execution_count": 199,
   "metadata": {},
   "outputs": [
    {
     "data": {
      "application/vnd.microsoft.datawrangler.viewer.v0+json": {
       "columns": [
        {
         "name": "date",
         "rawType": "datetime64[ns]",
         "type": "datetime"
        },
        {
         "name": "pmi",
         "rawType": "float64",
         "type": "float"
        }
       ],
       "ref": "7e240586-9d77-43d9-a1bf-fda963e75fa6",
       "rows": [
        [
         "2025-06-30 00:00:00",
         "49.7"
        ],
        [
         "2025-05-31 00:00:00",
         "49.5"
        ],
        [
         "2025-04-30 00:00:00",
         "49.0"
        ],
        [
         "2025-03-31 00:00:00",
         "50.5"
        ],
        [
         "2025-02-28 00:00:00",
         "50.2"
        ]
       ],
       "shape": {
        "columns": 1,
        "rows": 5
       }
      },
      "text/html": [
       "<div>\n",
       "<style scoped>\n",
       "    .dataframe tbody tr th:only-of-type {\n",
       "        vertical-align: middle;\n",
       "    }\n",
       "\n",
       "    .dataframe tbody tr th {\n",
       "        vertical-align: top;\n",
       "    }\n",
       "\n",
       "    .dataframe thead th {\n",
       "        text-align: right;\n",
       "    }\n",
       "</style>\n",
       "<table border=\"1\" class=\"dataframe\">\n",
       "  <thead>\n",
       "    <tr style=\"text-align: right;\">\n",
       "      <th></th>\n",
       "      <th>pmi</th>\n",
       "    </tr>\n",
       "    <tr>\n",
       "      <th>date</th>\n",
       "      <th></th>\n",
       "    </tr>\n",
       "  </thead>\n",
       "  <tbody>\n",
       "    <tr>\n",
       "      <th>2025-06-30</th>\n",
       "      <td>49.7</td>\n",
       "    </tr>\n",
       "    <tr>\n",
       "      <th>2025-05-31</th>\n",
       "      <td>49.5</td>\n",
       "    </tr>\n",
       "    <tr>\n",
       "      <th>2025-04-30</th>\n",
       "      <td>49.0</td>\n",
       "    </tr>\n",
       "    <tr>\n",
       "      <th>2025-03-31</th>\n",
       "      <td>50.5</td>\n",
       "    </tr>\n",
       "    <tr>\n",
       "      <th>2025-02-28</th>\n",
       "      <td>50.2</td>\n",
       "    </tr>\n",
       "  </tbody>\n",
       "</table>\n",
       "</div>"
      ],
      "text/plain": [
       "             pmi\n",
       "date            \n",
       "2025-06-30  49.7\n",
       "2025-05-31  49.5\n",
       "2025-04-30  49.0\n",
       "2025-03-31  50.5\n",
       "2025-02-28  50.2"
      ]
     },
     "execution_count": 199,
     "metadata": {},
     "output_type": "execute_result"
    }
   ],
   "source": [
    "pmi_df.head()"
   ]
  },
  {
   "cell_type": "code",
   "execution_count": 200,
   "metadata": {},
   "outputs": [],
   "source": [
    "pollution_df['date'] = pd.to_datetime(pollution_df['date'])\n",
    "pollution_df.set_index('date', inplace=True)"
   ]
  },
  {
   "cell_type": "code",
   "execution_count": 201,
   "metadata": {},
   "outputs": [],
   "source": [
    "# Merge on Date Index\n",
    "df = pollution_df.join(pmi_df, how='inner')"
   ]
  },
  {
   "cell_type": "code",
   "execution_count": 202,
   "metadata": {},
   "outputs": [
    {
     "name": "stderr",
     "output_type": "stream",
     "text": [
      "/var/folders/n0/qhjx1vrd1c1b846x7pqgmbg40000gn/T/ipykernel_45839/311897133.py:2: FutureWarning: 'M' is deprecated and will be removed in a future version, please use 'ME' instead.\n",
      "  monthly_pollution = pollution_df.resample('M').mean()\n"
     ]
    }
   ],
   "source": [
    "# Resample pollution data from daily to monthly mean\n",
    "monthly_pollution = pollution_df.resample('M').mean()\n",
    "\n",
    "# Combine with monthly PMI data\n",
    "monthly_data = monthly_pollution.join(pmi_df, how='inner')"
   ]
  },
  {
   "cell_type": "code",
   "execution_count": 203,
   "metadata": {},
   "outputs": [
    {
     "name": "stdout",
     "output_type": "stream",
     "text": [
      "Monthly NO2 is non-stationary. Differencing applied.\n",
      "PMI is stationary.\n"
     ]
    },
    {
     "data": {
      "text/plain": [
       "<Figure size 1000x600 with 0 Axes>"
      ]
     },
     "metadata": {},
     "output_type": "display_data"
    },
    {
     "data": {
      "image/png": "[encoded data removed]",
      "text/plain": [
       "<Figure size 640x480 with 1 Axes>"
      ]
     },
     "metadata": {},
     "output_type": "display_data"
    }
   ],
   "source": [
    "def ccf(pollutant):\n",
    "    # Check & Enforce Stationarity \n",
    "    def make_stationary(series, name):\n",
    "        result = adfuller(series.dropna())\n",
    "        if result[1] > 0.05:\n",
    "            print(f\"{name} is non-stationary. Differencing applied.\")\n",
    "            return series.diff().dropna()\n",
    "        else:\n",
    "            print(f\"{name} is stationary.\")\n",
    "            return series.dropna()\n",
    "\n",
    "    pollution_diff = make_stationary(monthly_data[pollutant], \"Monthly {pollutant}\".format(pollutant=pollutant))\n",
    "    pmi_diff = make_stationary(monthly_data['pmi'], \"PMI\")\n",
    "\n",
    "    # Align Differenced Series After Differencing\n",
    "    aligned = pd.concat([pollution_diff, pmi_diff], axis=1).dropna()\n",
    "\n",
    "    # Plot CCF\n",
    "    plt.figure(figsize=(10, 6))\n",
    "    plot_ccf(aligned[pollutant], aligned['pmi'], lags=12)\n",
    "    plt.title(\"Monthly CCF: {pollutant} vs PMI\".format(pollutant=pollutant))\n",
    "    plt.xlabel(\"Lag (months)\")\n",
    "    plt.ylabel(\"Cross-correlation\")\n",
    "    plt.axhline(y=0.2, linestyle='--', color='gray')\n",
    "    plt.axhline(y=-0.2, linestyle='--', color='gray')\n",
    "    plt.grid(True)\n",
    "    plt.show()\n",
    "\n",
    "# for col in pollution_df:\n",
    "#     ccf(col)\n",
    "\n",
    "ccf('NO2')"
   ]
  },
  {
   "cell_type": "code",
   "execution_count": 204,
   "metadata": {},
   "outputs": [
    {
     "name": "stderr",
     "output_type": "stream",
     "text": [
      "/opt/anaconda3/lib/python3.12/site-packages/statsmodels/tsa/base/tsa_model.py:473: ValueWarning: A date index has been provided, but it has no associated frequency information and so will be ignored when e.g. forecasting.\n",
      "  self._init_dates(dates, freq)\n"
     ]
    },
    {
     "data": {
      "text/plain": [
       "<Figure size 1000x600 with 0 Axes>"
      ]
     },
     "metadata": {},
     "output_type": "display_data"
    },
    {
     "data": {
      "image/png": "[encoded data removed]",
      "text/plain": [
       "<Figure size 640x480 with 1 Axes>"
      ]
     },
     "metadata": {},
     "output_type": "display_data"
    }
   ],
   "source": [
    "import pandas as pd\n",
    "from statsmodels.tsa.arima.model import ARIMA\n",
    "import matplotlib.pyplot as plt\n",
    "from statsmodels.graphics.tsaplots import plot_acf, plot_ccf\n",
    "\n",
    "# Ensure monthly_data has pollution and PMI\n",
    "def prewhitening(pollutant):\n",
    "    pollution = monthly_data[pollutant].dropna()\n",
    "    pmi = monthly_data['pmi'].dropna()\n",
    "\n",
    "    # Align the series\n",
    "    data = pd.concat([pollution, pmi], axis=1).dropna()\n",
    "\n",
    "    # Fit ARIMA model to pollution\n",
    "    model = ARIMA(data[pollutant], order=(1, 0, 0))  # AR(1) for simplicity; refine this via AIC later\n",
    "    model_fit = model.fit()\n",
    "\n",
    "    # Extract residuals (white noise version of pollution)\n",
    "    pollution_resid = model_fit.resid\n",
    "\n",
    "    # Get the AR coefficient (phi_1)\n",
    "    phi = model_fit.arparams[0]\n",
    "\n",
    "    # Apply the same filter to PMI: x_t - phi * x_{t-1}\n",
    "    pmi_filtered = data['pmi'].copy()\n",
    "    pmi_filtered.iloc[1:] = pmi_filtered.iloc[1:] - phi * pmi_filtered.shift(1).iloc[1:]\n",
    "\n",
    "    # Align residuals and filtered series\n",
    "    aligned = pd.concat([pollution_resid, pmi_filtered], axis=1).dropna()\n",
    "    aligned.columns = ['pollution_resid', 'pmi_filtered']\n",
    "\n",
    "    plt.figure(figsize=(10, 6))\n",
    "    plot_ccf(aligned['pollution_resid'], aligned['pmi_filtered'], lags=12)\n",
    "    plt.title(\"Prewhitened CCF: Pollution → PMI\")\n",
    "    plt.xlabel(\"Lag (months)\")\n",
    "    plt.ylabel(\"Cross-correlation\")\n",
    "    plt.grid(True)\n",
    "    plt.axhline(y=0.2, linestyle='--', color='gray')\n",
    "    plt.axhline(y=-0.2, linestyle='--', color='gray')\n",
    "    plt.show()\n",
    "\n",
    "\n",
    "prewhitening('NO2')"
   ]
  },
  {
   "cell_type": "code",
   "execution_count": 205,
   "metadata": {},
   "outputs": [],
   "source": [
    "# GRANGER-CAUSALITY"
   ]
  },
  {
   "cell_type": "code",
   "execution_count": 206,
   "metadata": {},
   "outputs": [
    {
     "name": "stdout",
     "output_type": "stream",
     "text": [
      "\n",
      "Granger Causality\n",
      "number of lags (no zero) 1\n",
      "ssr based F test:         F=0.3637  , p=0.5475  , df_denom=131, df_num=1\n",
      "ssr based chi2 test:   chi2=0.3721  , p=0.5419  , df=1\n",
      "likelihood ratio test: chi2=0.3716  , p=0.5422  , df=1\n",
      "parameter F test:         F=0.3637  , p=0.5475  , df_denom=131, df_num=1\n",
      "\n",
      "Granger Causality\n",
      "number of lags (no zero) 2\n",
      "ssr based F test:         F=0.5836  , p=0.5594  , df_denom=128, df_num=2\n",
      "ssr based chi2 test:   chi2=1.2127  , p=0.5453  , df=2\n",
      "likelihood ratio test: chi2=1.2072  , p=0.5468  , df=2\n",
      "parameter F test:         F=0.5836  , p=0.5594  , df_denom=128, df_num=2\n",
      "\n",
      "Granger Causality\n",
      "number of lags (no zero) 3\n",
      "ssr based F test:         F=0.4852  , p=0.6932  , df_denom=125, df_num=3\n",
      "ssr based chi2 test:   chi2=1.5370  , p=0.6738  , df=3\n",
      "likelihood ratio test: chi2=1.5281  , p=0.6758  , df=3\n",
      "parameter F test:         F=0.4852  , p=0.6932  , df_denom=125, df_num=3\n",
      "\n",
      "Granger Causality\n",
      "number of lags (no zero) 4\n",
      "ssr based F test:         F=0.6555  , p=0.6241  , df_denom=122, df_num=4\n",
      "ssr based chi2 test:   chi2=2.8156  , p=0.5891  , df=4\n",
      "likelihood ratio test: chi2=2.7857  , p=0.5943  , df=4\n",
      "parameter F test:         F=0.6555  , p=0.6241  , df_denom=122, df_num=4\n",
      "\n",
      "Granger Causality\n",
      "number of lags (no zero) 5\n",
      "ssr based F test:         F=0.5188  , p=0.7617  , df_denom=119, df_num=5\n",
      "ssr based chi2 test:   chi2=2.8336  , p=0.7256  , df=5\n",
      "likelihood ratio test: chi2=2.8032  , p=0.7303  , df=5\n",
      "parameter F test:         F=0.5188  , p=0.7617  , df_denom=119, df_num=5\n",
      "\n",
      "Granger Causality\n",
      "number of lags (no zero) 6\n",
      "ssr based F test:         F=0.7739  , p=0.5920  , df_denom=116, df_num=6\n",
      "ssr based chi2 test:   chi2=5.1636  , p=0.5230  , df=6\n",
      "likelihood ratio test: chi2=5.0629  , p=0.5358  , df=6\n",
      "parameter F test:         F=0.7739  , p=0.5920  , df_denom=116, df_num=6\n",
      "\n",
      "Granger Causality\n",
      "number of lags (no zero) 7\n",
      "ssr based F test:         F=1.1491  , p=0.3379  , df_denom=113, df_num=7\n",
      "ssr based chi2 test:   chi2=9.1115  , p=0.2447  , df=7\n",
      "likelihood ratio test: chi2=8.8018  , p=0.2672  , df=7\n",
      "parameter F test:         F=1.1491  , p=0.3379  , df_denom=113, df_num=7\n",
      "\n",
      "Granger Causality\n",
      "number of lags (no zero) 8\n",
      "ssr based F test:         F=0.7169  , p=0.6762  , df_denom=110, df_num=8\n",
      "ssr based chi2 test:   chi2=6.6211  , p=0.5780  , df=8\n",
      "likelihood ratio test: chi2=6.4543  , p=0.5965  , df=8\n",
      "parameter F test:         F=0.7169  , p=0.6762  , df_denom=110, df_num=8\n",
      "\n",
      "Granger Causality\n",
      "number of lags (no zero) 9\n",
      "ssr based F test:         F=0.7534  , p=0.6593  , df_denom=107, df_num=9\n",
      "ssr based chi2 test:   chi2=7.9850  , p=0.5357  , df=9\n",
      "likelihood ratio test: chi2=7.7421  , p=0.5603  , df=9\n",
      "parameter F test:         F=0.7534  , p=0.6593  , df_denom=107, df_num=9\n",
      "\n",
      "Granger Causality\n",
      "number of lags (no zero) 10\n",
      "ssr based F test:         F=0.7611  , p=0.6656  , df_denom=104, df_num=10\n",
      "ssr based chi2 test:   chi2=9.1473  , p=0.5182  , df=10\n",
      "likelihood ratio test: chi2=8.8281  , p=0.5485  , df=10\n",
      "parameter F test:         F=0.7611  , p=0.6656  , df_denom=104, df_num=10\n",
      "\n",
      "Granger Causality\n",
      "number of lags (no zero) 11\n",
      "ssr based F test:         F=0.8458  , p=0.5952  , df_denom=101, df_num=11\n",
      "ssr based chi2 test:   chi2=11.4231 , p=0.4085  , df=11\n",
      "likelihood ratio test: chi2=10.9272 , p=0.4494  , df=11\n",
      "parameter F test:         F=0.8458  , p=0.5952  , df_denom=101, df_num=11\n",
      "\n",
      "Granger Causality\n",
      "number of lags (no zero) 12\n",
      "ssr based F test:         F=0.8004  , p=0.6492  , df_denom=98, df_num=12\n",
      "ssr based chi2 test:   chi2=12.0546 , p=0.4413  , df=12\n",
      "likelihood ratio test: chi2=11.4998 , p=0.4866  , df=12\n",
      "parameter F test:         F=0.8004  , p=0.6492  , df_denom=98, df_num=12\n"
     ]
    },
    {
     "name": "stderr",
     "output_type": "stream",
     "text": [
      "/opt/anaconda3/lib/python3.12/site-packages/statsmodels/tsa/stattools.py:1556: FutureWarning: verbose is deprecated since functions should not print results\n",
      "  warnings.warn(\n"
     ]
    },
    {
     "data": {
      "text/plain": [
       "{1: ({'ssr_ftest': (0.3637433566344778, 0.547477341137335, 131.0, 1),\n",
       "   'ssr_chi2test': (0.3720733571680918, 0.541876274309939, 1),\n",
       "   'lrtest': (0.37155774951736475, 0.5421563832399705, 1),\n",
       "   'params_ftest': (0.36374335663447277, 0.547477341137335, 131.0, 1.0)},\n",
       "  [<statsmodels.regression.linear_model.RegressionResultsWrapper at 0x15a2fd4c0>,\n",
       "   <statsmodels.regression.linear_model.RegressionResultsWrapper at 0x159fee090>,\n",
       "   array([[0., 1., 0.]])]),\n",
       " 2: ({'ssr_ftest': (0.5835660467719638, 0.559382619687262, 128.0, 2),\n",
       "   'ssr_chi2test': (1.2127231909479872, 0.5453314001374885, 2),\n",
       "   'lrtest': (1.207227634037281, 0.5468319106008686, 2),\n",
       "   'params_ftest': (0.5835660467719679, 0.559382619687262, 128.0, 2.0)},\n",
       "  [<statsmodels.regression.linear_model.RegressionResultsWrapper at 0x15a151eb0>,\n",
       "   <statsmodels.regression.linear_model.RegressionResultsWrapper at 0x15a1507a0>,\n",
       "   array([[0., 0., 1., 0., 0.],\n",
       "          [0., 0., 0., 1., 0.]])]),\n",
       " 3: ({'ssr_ftest': (0.4851687010927805, 0.6931919431003264, 125.0, 3),\n",
       "   'ssr_chi2test': (1.5370144450619285, 0.6737541385728858, 3),\n",
       "   'lrtest': (1.5281347731879578, 0.6757922277751336, 3),\n",
       "   'params_ftest': (0.4851687010927788, 0.6931919431003264, 125.0, 3.0)},\n",
       "  [<statsmodels.regression.linear_model.RegressionResultsWrapper at 0x15a174590>,\n",
       "   <statsmodels.regression.linear_model.RegressionResultsWrapper at 0x15a1754f0>,\n",
       "   array([[0., 0., 0., 1., 0., 0., 0.],\n",
       "          [0., 0., 0., 0., 1., 0., 0.],\n",
       "          [0., 0., 0., 0., 0., 1., 0.]])]),\n",
       " 4: ({'ssr_ftest': (0.6555321833767425, 0.6240818540901167, 122.0, 4),\n",
       "   'ssr_chi2test': (2.8155644597492873, 0.5891490079939289, 4),\n",
       "   'lrtest': (2.785733868407533, 0.5942978031855195, 4),\n",
       "   'params_ftest': (0.655532183376755, 0.624081854090107, 122.0, 4.0)},\n",
       "  [<statsmodels.regression.linear_model.RegressionResultsWrapper at 0x15a222360>,\n",
       "   <statsmodels.regression.linear_model.RegressionResultsWrapper at 0x15a220320>,\n",
       "   array([[0., 0., 0., 0., 1., 0., 0., 0., 0.],\n",
       "          [0., 0., 0., 0., 0., 1., 0., 0., 0.],\n",
       "          [0., 0., 0., 0., 0., 0., 1., 0., 0.],\n",
       "          [0., 0., 0., 0., 0., 0., 0., 1., 0.]])]),\n",
       " 5: ({'ssr_ftest': (0.5187710982211021, 0.7616508712223935, 119.0, 5),\n",
       "   'ssr_chi2test': (2.8336236457455164, 0.7256175214489567, 5),\n",
       "   'lrtest': (2.803182803596769, 0.7302974425525939, 5),\n",
       "   'params_ftest': (0.5187710982210995, 0.7616508712223955, 119.0, 5.0)},\n",
       "  [<statsmodels.regression.linear_model.RegressionResultsWrapper at 0x15a184980>,\n",
       "   <statsmodels.regression.linear_model.RegressionResultsWrapper at 0x15a186ab0>,\n",
       "   array([[0., 0., 0., 0., 0., 1., 0., 0., 0., 0., 0.],\n",
       "          [0., 0., 0., 0., 0., 0., 1., 0., 0., 0., 0.],\n",
       "          [0., 0., 0., 0., 0., 0., 0., 1., 0., 0., 0.],\n",
       "          [0., 0., 0., 0., 0., 0., 0., 0., 1., 0., 0.],\n",
       "          [0., 0., 0., 0., 0., 0., 0., 0., 0., 1., 0.]])]),\n",
       " 6: ({'ssr_ftest': (0.7738723628898458, 0.591997875348447, 116.0, 6),\n",
       "   'ssr_chi2test': (5.163596628247764, 0.5230085476146744, 6),\n",
       "   'lrtest': (5.062930246810311, 0.535767584977084, 6),\n",
       "   'params_ftest': (0.7738723628898451, 0.5919978753484487, 116.0, 6.0)},\n",
       "  [<statsmodels.regression.linear_model.RegressionResultsWrapper at 0x15a3778f0>,\n",
       "   <statsmodels.regression.linear_model.RegressionResultsWrapper at 0x15a377920>,\n",
       "   array([[0., 0., 0., 0., 0., 0., 1., 0., 0., 0., 0., 0., 0.],\n",
       "          [0., 0., 0., 0., 0., 0., 0., 1., 0., 0., 0., 0., 0.],\n",
       "          [0., 0., 0., 0., 0., 0., 0., 0., 1., 0., 0., 0., 0.],\n",
       "          [0., 0., 0., 0., 0., 0., 0., 0., 0., 1., 0., 0., 0.],\n",
       "          [0., 0., 0., 0., 0., 0., 0., 0., 0., 0., 1., 0., 0.],\n",
       "          [0., 0., 0., 0., 0., 0., 0., 0., 0., 0., 0., 1., 0.]])]),\n",
       " 7: ({'ssr_ftest': (1.1491094544756268, 0.33789810527918485, 113.0, 7),\n",
       "   'ssr_chi2test': (9.111522754072226, 0.24474806681725506, 7),\n",
       "   'lrtest': (8.80183877929153, 0.267198117194492, 7),\n",
       "   'params_ftest': (1.1491094544756246, 0.3378981052791835, 113.0, 7.0)},\n",
       "  [<statsmodels.regression.linear_model.RegressionResultsWrapper at 0x15a35ccb0>,\n",
       "   <statsmodels.regression.linear_model.RegressionResultsWrapper at 0x15a35ff20>,\n",
       "   array([[0., 0., 0., 0., 0., 0., 0., 1., 0., 0., 0., 0., 0., 0., 0.],\n",
       "          [0., 0., 0., 0., 0., 0., 0., 0., 1., 0., 0., 0., 0., 0., 0.],\n",
       "          [0., 0., 0., 0., 0., 0., 0., 0., 0., 1., 0., 0., 0., 0., 0.],\n",
       "          [0., 0., 0., 0., 0., 0., 0., 0., 0., 0., 1., 0., 0., 0., 0.],\n",
       "          [0., 0., 0., 0., 0., 0., 0., 0., 0., 0., 0., 1., 0., 0., 0.],\n",
       "          [0., 0., 0., 0., 0., 0., 0., 0., 0., 0., 0., 0., 1., 0., 0.],\n",
       "          [0., 0., 0., 0., 0., 0., 0., 0., 0., 0., 0., 0., 0., 1., 0.]])]),\n",
       " 8: ({'ssr_ftest': (0.7168528079652874, 0.676214929641988, 110.0, 8),\n",
       "   'ssr_chi2test': (6.621113208115745, 0.578007250381621, 8),\n",
       "   'lrtest': (6.454291784422594, 0.5964819546844669, 8),\n",
       "   'params_ftest': (0.7168528079652922, 0.6762149296419834, 110.0, 8.0)},\n",
       "  [<statsmodels.regression.linear_model.RegressionResultsWrapper at 0x15a334ce0>,\n",
       "   <statsmodels.regression.linear_model.RegressionResultsWrapper at 0x15a336150>,\n",
       "   array([[0., 0., 0., 0., 0., 0., 0., 0., 1., 0., 0., 0., 0., 0., 0., 0.,\n",
       "           0.],\n",
       "          [0., 0., 0., 0., 0., 0., 0., 0., 0., 1., 0., 0., 0., 0., 0., 0.,\n",
       "           0.],\n",
       "          [0., 0., 0., 0., 0., 0., 0., 0., 0., 0., 1., 0., 0., 0., 0., 0.,\n",
       "           0.],\n",
       "          [0., 0., 0., 0., 0., 0., 0., 0., 0., 0., 0., 1., 0., 0., 0., 0.,\n",
       "           0.],\n",
       "          [0., 0., 0., 0., 0., 0., 0., 0., 0., 0., 0., 0., 1., 0., 0., 0.,\n",
       "           0.],\n",
       "          [0., 0., 0., 0., 0., 0., 0., 0., 0., 0., 0., 0., 0., 1., 0., 0.,\n",
       "           0.],\n",
       "          [0., 0., 0., 0., 0., 0., 0., 0., 0., 0., 0., 0., 0., 0., 1., 0.,\n",
       "           0.],\n",
       "          [0., 0., 0., 0., 0., 0., 0., 0., 0., 0., 0., 0., 0., 0., 0., 1.,\n",
       "           0.]])]),\n",
       " 9: ({'ssr_ftest': (0.7534300444272788, 0.6593003271426086, 107.0, 9),\n",
       "   'ssr_chi2test': (7.98495019047228, 0.5356635892633785, 9),\n",
       "   'lrtest': (7.742142409751295, 0.5603264459594545, 9),\n",
       "   'params_ftest': (0.7534300444272799, 0.6593003271426074, 107.0, 9.0)},\n",
       "  [<statsmodels.regression.linear_model.RegressionResultsWrapper at 0x15a3cf530>,\n",
       "   <statsmodels.regression.linear_model.RegressionResultsWrapper at 0x15a3cf260>,\n",
       "   array([[0., 0., 0., 0., 0., 0., 0., 0., 0., 1., 0., 0., 0., 0., 0., 0.,\n",
       "           0., 0., 0.],\n",
       "          [0., 0., 0., 0., 0., 0., 0., 0., 0., 0., 1., 0., 0., 0., 0., 0.,\n",
       "           0., 0., 0.],\n",
       "          [0., 0., 0., 0., 0., 0., 0., 0., 0., 0., 0., 1., 0., 0., 0., 0.,\n",
       "           0., 0., 0.],\n",
       "          [0., 0., 0., 0., 0., 0., 0., 0., 0., 0., 0., 0., 1., 0., 0., 0.,\n",
       "           0., 0., 0.],\n",
       "          [0., 0., 0., 0., 0., 0., 0., 0., 0., 0., 0., 0., 0., 1., 0., 0.,\n",
       "           0., 0., 0.],\n",
       "          [0., 0., 0., 0., 0., 0., 0., 0., 0., 0., 0., 0., 0., 0., 1., 0.,\n",
       "           0., 0., 0.],\n",
       "          [0., 0., 0., 0., 0., 0., 0., 0., 0., 0., 0., 0., 0., 0., 0., 1.,\n",
       "           0., 0., 0.],\n",
       "          [0., 0., 0., 0., 0., 0., 0., 0., 0., 0., 0., 0., 0., 0., 0., 0.,\n",
       "           1., 0., 0.],\n",
       "          [0., 0., 0., 0., 0., 0., 0., 0., 0., 0., 0., 0., 0., 0., 0., 0.,\n",
       "           0., 1., 0.]])]),\n",
       " 10: ({'ssr_ftest': (0.7610535707018399, 0.6655910540636327, 104.0, 10),\n",
       "   'ssr_chi2test': (9.1472784940125, 0.5181857721204814, 10),\n",
       "   'lrtest': (8.828069040842593, 0.548494619338239, 10),\n",
       "   'params_ftest': (0.7610535707018415, 0.6655910540636314, 104.0, 10.0)},\n",
       "  [<statsmodels.regression.linear_model.RegressionResultsWrapper at 0x15a3cfd10>,\n",
       "   <statsmodels.regression.linear_model.RegressionResultsWrapper at 0x15a3cfa70>,\n",
       "   array([[0., 0., 0., 0., 0., 0., 0., 0., 0., 0., 1., 0., 0., 0., 0., 0.,\n",
       "           0., 0., 0., 0., 0.],\n",
       "          [0., 0., 0., 0., 0., 0., 0., 0., 0., 0., 0., 1., 0., 0., 0., 0.,\n",
       "           0., 0., 0., 0., 0.],\n",
       "          [0., 0., 0., 0., 0., 0., 0., 0., 0., 0., 0., 0., 1., 0., 0., 0.,\n",
       "           0., 0., 0., 0., 0.],\n",
       "          [0., 0., 0., 0., 0., 0., 0., 0., 0., 0., 0., 0., 0., 1., 0., 0.,\n",
       "           0., 0., 0., 0., 0.],\n",
       "          [0., 0., 0., 0., 0., 0., 0., 0., 0., 0., 0., 0., 0., 0., 1., 0.,\n",
       "           0., 0., 0., 0., 0.],\n",
       "          [0., 0., 0., 0., 0., 0., 0., 0., 0., 0., 0., 0., 0., 0., 0., 1.,\n",
       "           0., 0., 0., 0., 0.],\n",
       "          [0., 0., 0., 0., 0., 0., 0., 0., 0., 0., 0., 0., 0., 0., 0., 0.,\n",
       "           1., 0., 0., 0., 0.],\n",
       "          [0., 0., 0., 0., 0., 0., 0., 0., 0., 0., 0., 0., 0., 0., 0., 0.,\n",
       "           0., 1., 0., 0., 0.],\n",
       "          [0., 0., 0., 0., 0., 0., 0., 0., 0., 0., 0., 0., 0., 0., 0., 0.,\n",
       "           0., 0., 1., 0., 0.],\n",
       "          [0., 0., 0., 0., 0., 0., 0., 0., 0., 0., 0., 0., 0., 0., 0., 0.,\n",
       "           0., 0., 0., 1., 0.]])]),\n",
       " 11: ({'ssr_ftest': (0.8458434969484913, 0.5951518687621707, 101.0, 11),\n",
       "   'ssr_chi2test': (11.423074552848929, 0.4085296987022154, 11),\n",
       "   'lrtest': (10.927152555241378, 0.44938628191194774, 11),\n",
       "   'params_ftest': (0.8458434969484816, 0.5951518687621791, 101.0, 11.0)},\n",
       "  [<statsmodels.regression.linear_model.RegressionResultsWrapper at 0x15a1064b0>,\n",
       "   <statsmodels.regression.linear_model.RegressionResultsWrapper at 0x15a1049b0>,\n",
       "   array([[0., 0., 0., 0., 0., 0., 0., 0., 0., 0., 0., 1., 0., 0., 0., 0.,\n",
       "           0., 0., 0., 0., 0., 0., 0.],\n",
       "          [0., 0., 0., 0., 0., 0., 0., 0., 0., 0., 0., 0., 1., 0., 0., 0.,\n",
       "           0., 0., 0., 0., 0., 0., 0.],\n",
       "          [0., 0., 0., 0., 0., 0., 0., 0., 0., 0., 0., 0., 0., 1., 0., 0.,\n",
       "           0., 0., 0., 0., 0., 0., 0.],\n",
       "          [0., 0., 0., 0., 0., 0., 0., 0., 0., 0., 0., 0., 0., 0., 1., 0.,\n",
       "           0., 0., 0., 0., 0., 0., 0.],\n",
       "          [0., 0., 0., 0., 0., 0., 0., 0., 0., 0., 0., 0., 0., 0., 0., 1.,\n",
       "           0., 0., 0., 0., 0., 0., 0.],\n",
       "          [0., 0., 0., 0., 0., 0., 0., 0., 0., 0., 0., 0., 0., 0., 0., 0.,\n",
       "           1., 0., 0., 0., 0., 0., 0.],\n",
       "          [0., 0., 0., 0., 0., 0., 0., 0., 0., 0., 0., 0., 0., 0., 0., 0.,\n",
       "           0., 1., 0., 0., 0., 0., 0.],\n",
       "          [0., 0., 0., 0., 0., 0., 0., 0., 0., 0., 0., 0., 0., 0., 0., 0.,\n",
       "           0., 0., 1., 0., 0., 0., 0.],\n",
       "          [0., 0., 0., 0., 0., 0., 0., 0., 0., 0., 0., 0., 0., 0., 0., 0.,\n",
       "           0., 0., 0., 1., 0., 0., 0.],\n",
       "          [0., 0., 0., 0., 0., 0., 0., 0., 0., 0., 0., 0., 0., 0., 0., 0.,\n",
       "           0., 0., 0., 0., 1., 0., 0.],\n",
       "          [0., 0., 0., 0., 0., 0., 0., 0., 0., 0., 0., 0., 0., 0., 0., 0.,\n",
       "           0., 0., 0., 0., 0., 1., 0.]])]),\n",
       " 12: ({'ssr_ftest': (0.8003704356770555, 0.6491719744537706, 98.0, 12),\n",
       "   'ssr_chi2test': (12.054558806727899, 0.44130795873720785, 12),\n",
       "   'lrtest': (11.499821130135956, 0.48663751311761494, 12),\n",
       "   'params_ftest': (0.8003704356770579, 0.6491719744537685, 98.0, 12.0)},\n",
       "  [<statsmodels.regression.linear_model.RegressionResultsWrapper at 0x15a3dc6b0>,\n",
       "   <statsmodels.regression.linear_model.RegressionResultsWrapper at 0x15a3dc110>,\n",
       "   array([[0., 0., 0., 0., 0., 0., 0., 0., 0., 0., 0., 0., 1., 0., 0., 0.,\n",
       "           0., 0., 0., 0., 0., 0., 0., 0., 0.],\n",
       "          [0., 0., 0., 0., 0., 0., 0., 0., 0., 0., 0., 0., 0., 1., 0., 0.,\n",
       "           0., 0., 0., 0., 0., 0., 0., 0., 0.],\n",
       "          [0., 0., 0., 0., 0., 0., 0., 0., 0., 0., 0., 0., 0., 0., 1., 0.,\n",
       "           0., 0., 0., 0., 0., 0., 0., 0., 0.],\n",
       "          [0., 0., 0., 0., 0., 0., 0., 0., 0., 0., 0., 0., 0., 0., 0., 1.,\n",
       "           0., 0., 0., 0., 0., 0., 0., 0., 0.],\n",
       "          [0., 0., 0., 0., 0., 0., 0., 0., 0., 0., 0., 0., 0., 0., 0., 0.,\n",
       "           1., 0., 0., 0., 0., 0., 0., 0., 0.],\n",
       "          [0., 0., 0., 0., 0., 0., 0., 0., 0., 0., 0., 0., 0., 0., 0., 0.,\n",
       "           0., 1., 0., 0., 0., 0., 0., 0., 0.],\n",
       "          [0., 0., 0., 0., 0., 0., 0., 0., 0., 0., 0., 0., 0., 0., 0., 0.,\n",
       "           0., 0., 1., 0., 0., 0., 0., 0., 0.],\n",
       "          [0., 0., 0., 0., 0., 0., 0., 0., 0., 0., 0., 0., 0., 0., 0., 0.,\n",
       "           0., 0., 0., 1., 0., 0., 0., 0., 0.],\n",
       "          [0., 0., 0., 0., 0., 0., 0., 0., 0., 0., 0., 0., 0., 0., 0., 0.,\n",
       "           0., 0., 0., 0., 1., 0., 0., 0., 0.],\n",
       "          [0., 0., 0., 0., 0., 0., 0., 0., 0., 0., 0., 0., 0., 0., 0., 0.,\n",
       "           0., 0., 0., 0., 0., 1., 0., 0., 0.],\n",
       "          [0., 0., 0., 0., 0., 0., 0., 0., 0., 0., 0., 0., 0., 0., 0., 0.,\n",
       "           0., 0., 0., 0., 0., 0., 1., 0., 0.],\n",
       "          [0., 0., 0., 0., 0., 0., 0., 0., 0., 0., 0., 0., 0., 0., 0., 0.,\n",
       "           0., 0., 0., 0., 0., 0., 0., 1., 0.]])])}"
      ]
     },
     "execution_count": 206,
     "metadata": {},
     "output_type": "execute_result"
    }
   ],
   "source": [
    "from statsmodels.tsa.stattools import adfuller, grangercausalitytests\n",
    "import pandas as pd\n",
    "\n",
    "# Assuming you already have monthly_data with pollution and pmi\n",
    "data = monthly_data[['NO2', 'pmi']].dropna()\n",
    "\n",
    "# 1. Make both series stationary (if not already done)\n",
    "def make_stationary(series):\n",
    "    result = adfuller(series.dropna())\n",
    "    if result[1] > 0.05:\n",
    "        return series.diff().dropna()\n",
    "    else:\n",
    "        return series.dropna()\n",
    "\n",
    "pollution_stationary = make_stationary(data['NO2'])\n",
    "pmi_stationary = make_stationary(data['pmi'])\n",
    "\n",
    "# 2. Align differenced series\n",
    "aligned = pd.concat([pollution_stationary, pmi_stationary], axis=1).dropna()\n",
    "aligned.columns = ['NO2', 'pmi']\n",
    "\n",
    "# 3. Run Granger causality test\n",
    "# We test if pollution \"Granger-causes\" PMI\n",
    "grangercausalitytests(aligned, maxlag=12, verbose=True)\n"
   ]
  }
 ],
 "metadata": {
  "kernelspec": {
   "display_name": "base",
   "language": "python",
   "name": "python3"
  },
  "language_info": {
   "codemirror_mode": {
    "name": "ipython",
    "version": 3
   },
   "file_extension": ".py",
   "mimetype": "text/x-python",
   "name": "python",
   "nbconvert_exporter": "python",
   "pygments_lexer": "ipython3",
   "version": "3.12.11"
  }
 },
 "nbformat": 4,
 "nbformat_minor": 2
}
