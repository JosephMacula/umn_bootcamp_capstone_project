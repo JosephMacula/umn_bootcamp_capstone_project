{
 "cells": [
  {
   "cell_type": "code",
   "execution_count": 195,
   "id": "577729aa-e999-48fe-8b49-21953e1b0f44",
   "metadata": {},
   "outputs": [],
   "source": [
    "import pandas as pd\n",
    "import numpy as np\n",
    "import matplotlib.pyplot as plt\n",
    "import math\n",
    "import os"
   ]
  },
  {
   "cell_type": "code",
   "execution_count": 194,
   "id": "94e20aeb-6fe7-4753-9ec8-17661ccadf9d",
   "metadata": {},
   "outputs": [],
   "source": [
    "def cleaned_NO2_data(file_name):\n",
    "    city_df = pd.read_csv(file_name)\n",
    "\n",
    "    #initial basic cleaning\n",
    "    city_df.rename(columns = {city_df.columns[0]: 'date', city_df.columns[1]: 'NO2_reading'}, inplace = True)\n",
    "    fill_value = float(city_df['NO2_reading'][5]) #this is the NASA fill value; will use this to remove undesired readings\n",
    "    city_df = city_df.iloc[7::,] #removing the initial 6 rows that do not contain data (they contain info about data paramters)\n",
    "    \n",
    "    #converting the datatype of the columns to a format suitable for analysis\n",
    "    city_df['date'] = pd.to_datetime(city_df['date'])\n",
    "    city_df = city_df[['date', 'NO2_reading']]\n",
    "    city_df['NO2_reading'] = city_df['NO2_reading'].astype(float)\n",
    "\n",
    "    #removing rows where the NO2 reading matches the NASA fill value:\n",
    "    city_df = city_df[city_df['NO2_reading'] != fill_value]\n",
    "\n",
    "   \n",
    "\n",
    "    return city_df"
   ]
  },
  {
   "cell_type": "code",
   "execution_count": 241,
   "id": "edefd439-140d-4a85-ab17-3ef97685cd0d",
   "metadata": {},
   "outputs": [],
   "source": [
    "#Saving the cleaned data frames as csv files on my local machine\n",
    "\n",
    "#passing the working directory to a variable and making a new directory (contained within the working directory)\n",
    "#to hold the soon-to-be made csv files\n",
    "my_local_path = '/Users/josephmacula/umn_bootcamp/capstone_project/china_data'\n",
    "os.makedirs('cleaned_files')\n",
    "\n",
    "#Getting all the filenames in the working directory whose file type is .csv\n",
    "csv_files_to_clean = [file for file in os.listdir(my_local_path) if file.endswith('.csv')] \n",
    "\n",
    "#Creating a list whose elements are lists. Each list contains a filename and the corresponding cleaned dataframe\n",
    "cleaned_data_frames = [[x, cleaned_NO2_data(x)] for x in csv_files_to_clean]\n",
    "\n",
    "#Creating a csv file for each cleaned dataframe and saving that csv file in the newly created 'cleaned_files' directory\n",
    "for i in range(0, len(cleaned_data_frames)):\n",
    "     cleaned_data_frames[i][1].to_csv(my_local_path + '/cleaned_files/cleaned_' + cleaned_data_frames[i][0], index = False)"
   ]
  }
 ],
 "metadata": {
  "kernelspec": {
   "display_name": "Python [conda env:base] *",
   "language": "python",
   "name": "conda-base-py"
  },
  "language_info": {
   "codemirror_mode": {
    "name": "ipython",
    "version": 3
   },
   "file_extension": ".py",
   "mimetype": "text/x-python",
   "name": "python",
   "nbconvert_exporter": "python",
   "pygments_lexer": "ipython3",
   "version": "3.12.2"
  }
 },
 "nbformat": 4,
 "nbformat_minor": 5
}
