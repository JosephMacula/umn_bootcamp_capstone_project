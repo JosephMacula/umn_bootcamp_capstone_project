{
 "cells": [
  {
   "cell_type": "code",
   "execution_count": 139,
   "metadata": {},
   "outputs": [],
   "source": [
    "import numpy as np\n",
    "import pandas as pd\n",
    "import matplotlib.pyplot as plt"
   ]
  },
  {
   "cell_type": "code",
   "execution_count": 140,
   "metadata": {},
   "outputs": [
    {
     "name": "stderr",
     "output_type": "stream",
     "text": [
      "/var/folders/n0/qhjx1vrd1c1b846x7pqgmbg40000gn/T/ipykernel_95871/1484779605.py:2: UserWarning: Could not infer format, so each element will be parsed individually, falling back to `dateutil`. To ensure parsing is consistent and as-expected, please specify a format.\n",
      "  training_data.date = pd.to_datetime(training_data.date)\n"
     ]
    },
    {
     "data": {
      "application/vnd.microsoft.datawrangler.viewer.v0+json": {
       "columns": [
        {
         "name": "index",
         "rawType": "int64",
         "type": "integer"
        },
        {
         "name": "date",
         "rawType": "datetime64[ns]",
         "type": "datetime"
        },
        {
         "name": "PM25",
         "rawType": "float64",
         "type": "float"
        },
        {
         "name": "PM10",
         "rawType": "float64",
         "type": "float"
        },
        {
         "name": "O3",
         "rawType": "float64",
         "type": "float"
        },
        {
         "name": "NO2",
         "rawType": "float64",
         "type": "float"
        },
        {
         "name": "SO2",
         "rawType": "float64",
         "type": "float"
        },
        {
         "name": "CO",
         "rawType": "float64",
         "type": "float"
        }
       ],
       "ref": "4756fdcf-3771-486c-967a-0f6a6adb544e",
       "rows": [
        [
         "3482",
         "2015-05-18 00:00:00",
         "141.0",
         "90.0",
         "53.0",
         "12.0",
         "13.0",
         "10.0"
        ],
        [
         "3483",
         "2015-05-19 00:00:00",
         "98.0",
         "44.0",
         "48.0",
         "7.0",
         "6.0",
         "7.0"
        ],
        [
         "3484",
         "2015-05-20 00:00:00",
         "74.0",
         "58.0",
         "57.0",
         "20.0",
         "15.0",
         "24.0"
        ],
        [
         "3485",
         "2015-05-21 00:00:00",
         "87.0",
         "118.0",
         "71.0",
         "22.0",
         "24.0",
         "17.0"
        ],
        [
         "3486",
         "2015-05-22 00:00:00",
         "123.0",
         "150.0",
         "86.0",
         "35.0",
         "29.0",
         "19.0"
        ],
        [
         "3487",
         "2015-05-23 00:00:00",
         "152.0",
         "166.0",
         "80.0",
         "38.0",
         "21.0",
         "14.0"
        ],
        [
         "3488",
         "2015-05-24 00:00:00",
         "151.0",
         "143.0",
         "92.0",
         "34.0",
         "28.0",
         "16.0"
        ],
        [
         "3489",
         "2015-05-25 00:00:00",
         "176.0",
         "92.0",
         "107.0",
         "30.0",
         "27.0",
         "12.0"
        ],
        [
         "3490",
         "2015-05-26 00:00:00",
         "142.0",
         "95.0",
         "107.0",
         "29.0",
         "20.0",
         "15.0"
        ],
        [
         "3491",
         "2015-05-27 00:00:00",
         "160.0",
         "123.0",
         "108.0",
         "33.0",
         "21.0",
         "15.0"
        ],
        [
         "3492",
         "2015-05-28 00:00:00",
         "172.0",
         "97.0",
         "56.0",
         "15.0",
         "14.0",
         "11.0"
        ],
        [
         "3493",
         "2015-05-29 00:00:00",
         "144.0",
         "64.0",
         "69.0",
         "13.0",
         "10.0",
         "8.0"
        ],
        [
         "3494",
         "2015-05-30 00:00:00",
         "97.0",
         "84.0",
         "62.0",
         "20.0",
         "18.0",
         "14.0"
        ],
        [
         "3495",
         "2015-05-31 00:00:00",
         "108.0",
         "113.0",
         "67.0",
         "26.0",
         "30.0",
         "24.0"
        ],
        [
         "3496",
         "2015-06-01 00:00:00",
         "159.0",
         "100.0",
         "62.0",
         "17.0",
         "13.0",
         "8.0"
        ],
        [
         "3497",
         "2015-06-02 00:00:00",
         "143.0",
         "63.0",
         "57.0",
         "11.0",
         "7.0",
         "6.0"
        ],
        [
         "3498",
         "2015-06-03 00:00:00",
         "84.0",
         "82.0",
         "50.0",
         "26.0",
         "20.0",
         "14.0"
        ],
        [
         "3499",
         "2015-06-04 00:00:00",
         "108.0",
         "87.0",
         "43.0",
         "23.0",
         "25.0",
         "24.0"
        ],
        [
         "3500",
         "2015-06-05 00:00:00",
         "159.0",
         "149.0",
         "64.0",
         "19.0",
         "18.0",
         "17.0"
        ],
        [
         "3501",
         "2015-06-06 00:00:00",
         "154.0",
         "63.0",
         "48.0",
         "14.0",
         "7.0",
         "5.0"
        ],
        [
         "3502",
         "2015-06-07 00:00:00",
         "90.0",
         "64.0",
         "50.0",
         "17.0",
         "13.0",
         "10.0"
        ],
        [
         "3503",
         "2015-06-08 00:00:00",
         "90.0",
         "85.0",
         "59.0",
         "26.0",
         "21.0",
         "16.0"
        ],
        [
         "3504",
         "2015-06-09 00:00:00",
         "129.0",
         "103.0",
         "60.0",
         "22.0",
         "20.0",
         "15.0"
        ],
        [
         "3505",
         "2015-06-10 00:00:00",
         "133.0",
         "161.0",
         "37.0",
         "15.0",
         "17.0",
         "15.0"
        ],
        [
         "3506",
         "2015-06-11 00:00:00",
         "123.0",
         "48.0",
         "42.0",
         "11.0",
         "15.0",
         "9.0"
        ],
        [
         "3507",
         "2015-06-12 00:00:00",
         "67.0",
         "57.0",
         "46.0",
         "9.0",
         "6.0",
         "6.0"
        ],
        [
         "3508",
         "2015-06-13 00:00:00",
         "68.0",
         "32.0",
         "56.0",
         "7.0",
         "4.0",
         "6.0"
        ],
        [
         "3509",
         "2015-06-14 00:00:00",
         "60.0",
         "53.0",
         "73.0",
         "18.0",
         "13.0",
         "12.0"
        ],
        [
         "3510",
         "2015-06-15 00:00:00",
         "90.0",
         "89.0",
         "84.0",
         "29.0",
         "21.0",
         "12.0"
        ],
        [
         "3511",
         "2015-06-16 00:00:00",
         "127.0",
         "61.0",
         "101.0",
         "21.0",
         "12.0",
         "10.0"
        ],
        [
         "3512",
         "2015-06-17 00:00:00",
         "130.0",
         "99.0",
         "71.0",
         "23.0",
         "15.0",
         "19.0"
        ],
        [
         "3513",
         "2015-06-18 00:00:00",
         "142.0",
         "54.0",
         "72.0",
         "19.0",
         "12.0",
         "13.0"
        ],
        [
         "3514",
         "2015-06-19 00:00:00",
         "78.0",
         "55.0",
         "49.0",
         "12.0",
         "7.0",
         "8.0"
        ],
        [
         "3515",
         "2015-06-20 00:00:00",
         "75.0",
         "51.0",
         "72.0",
         "19.0",
         "14.0",
         "7.0"
        ],
        [
         "3516",
         "2015-06-21 00:00:00",
         "76.0",
         "68.0",
         "73.0",
         "25.0",
         "20.0",
         "10.0"
        ],
        [
         "3517",
         "2015-06-22 00:00:00",
         "117.0",
         "73.0",
         "97.0",
         "20.0",
         "25.0",
         "9.0"
        ],
        [
         "3518",
         "2015-06-23 00:00:00",
         "150.0",
         "97.0",
         "74.0",
         "28.0",
         "28.0",
         "19.0"
        ],
        [
         "3519",
         "2015-06-24 00:00:00",
         "159.0",
         "64.0",
         "63.0",
         "23.0",
         "17.0",
         "22.0"
        ],
        [
         "3520",
         "2015-06-25 00:00:00",
         "131.0",
         "64.0",
         "69.0",
         "28.0",
         "13.0",
         "18.0"
        ],
        [
         "3521",
         "2015-06-26 00:00:00",
         "116.0",
         "71.0",
         "80.0",
         "30.0",
         "21.0",
         "21.0"
        ],
        [
         "3522",
         "2015-06-27 00:00:00",
         "123.0",
         "90.0",
         "104.0",
         "34.0",
         "23.0",
         "15.0"
        ],
        [
         "3523",
         "2015-06-28 00:00:00",
         "137.0",
         "75.0",
         "72.0",
         "21.0",
         "16.0",
         "9.0"
        ],
        [
         "3524",
         "2015-06-29 00:00:00",
         "151.0",
         "64.0",
         "85.0",
         "16.0",
         "10.0",
         "10.0"
        ],
        [
         "3525",
         "2015-06-30 00:00:00",
         "150.0",
         "56.0",
         "43.0",
         "10.0",
         "9.0",
         "6.0"
        ],
        [
         "3526",
         "2015-07-01 00:00:00",
         "81.0",
         "62.0",
         "39.0",
         "14.0",
         "5.0",
         "4.0"
        ],
        [
         "3347",
         "2015-07-02 00:00:00",
         "76.0",
         "46.0",
         "56.0",
         "14.0",
         "9.0",
         "5.0"
        ],
        [
         "3348",
         "2015-07-03 00:00:00",
         "65.0",
         "80.0",
         "78.0",
         "28.0",
         "27.0",
         "18.0"
        ],
        [
         "3349",
         "2015-07-04 00:00:00",
         "120.0",
         "98.0",
         "76.0",
         "29.0",
         "34.0",
         "11.0"
        ],
        [
         "3350",
         "2015-07-05 00:00:00",
         "141.0",
         "89.0",
         "61.0",
         "19.0",
         "22.0",
         "12.0"
        ],
        [
         "3351",
         "2015-07-06 00:00:00",
         "135.0",
         "64.0",
         "93.0",
         "15.0",
         "22.0",
         "8.0"
        ]
       ],
       "shape": {
        "columns": 7,
        "rows": 3058
       }
      },
      "text/html": [
       "<div>\n",
       "<style scoped>\n",
       "    .dataframe tbody tr th:only-of-type {\n",
       "        vertical-align: middle;\n",
       "    }\n",
       "\n",
       "    .dataframe tbody tr th {\n",
       "        vertical-align: top;\n",
       "    }\n",
       "\n",
       "    .dataframe thead th {\n",
       "        text-align: right;\n",
       "    }\n",
       "</style>\n",
       "<table border=\"1\" class=\"dataframe\">\n",
       "  <thead>\n",
       "    <tr style=\"text-align: right;\">\n",
       "      <th></th>\n",
       "      <th>date</th>\n",
       "      <th>PM25</th>\n",
       "      <th>PM10</th>\n",
       "      <th>O3</th>\n",
       "      <th>NO2</th>\n",
       "      <th>SO2</th>\n",
       "      <th>CO</th>\n",
       "    </tr>\n",
       "  </thead>\n",
       "  <tbody>\n",
       "    <tr>\n",
       "      <th>3482</th>\n",
       "      <td>2015-05-18</td>\n",
       "      <td>141.0</td>\n",
       "      <td>90.0</td>\n",
       "      <td>53.0</td>\n",
       "      <td>12.0</td>\n",
       "      <td>13.0</td>\n",
       "      <td>10.0</td>\n",
       "    </tr>\n",
       "    <tr>\n",
       "      <th>3483</th>\n",
       "      <td>2015-05-19</td>\n",
       "      <td>98.0</td>\n",
       "      <td>44.0</td>\n",
       "      <td>48.0</td>\n",
       "      <td>7.0</td>\n",
       "      <td>6.0</td>\n",
       "      <td>7.0</td>\n",
       "    </tr>\n",
       "    <tr>\n",
       "      <th>3484</th>\n",
       "      <td>2015-05-20</td>\n",
       "      <td>74.0</td>\n",
       "      <td>58.0</td>\n",
       "      <td>57.0</td>\n",
       "      <td>20.0</td>\n",
       "      <td>15.0</td>\n",
       "      <td>24.0</td>\n",
       "    </tr>\n",
       "    <tr>\n",
       "      <th>3485</th>\n",
       "      <td>2015-05-21</td>\n",
       "      <td>87.0</td>\n",
       "      <td>118.0</td>\n",
       "      <td>71.0</td>\n",
       "      <td>22.0</td>\n",
       "      <td>24.0</td>\n",
       "      <td>17.0</td>\n",
       "    </tr>\n",
       "    <tr>\n",
       "      <th>3486</th>\n",
       "      <td>2015-05-22</td>\n",
       "      <td>123.0</td>\n",
       "      <td>150.0</td>\n",
       "      <td>86.0</td>\n",
       "      <td>35.0</td>\n",
       "      <td>29.0</td>\n",
       "      <td>19.0</td>\n",
       "    </tr>\n",
       "    <tr>\n",
       "      <th>...</th>\n",
       "      <td>...</td>\n",
       "      <td>...</td>\n",
       "      <td>...</td>\n",
       "      <td>...</td>\n",
       "      <td>...</td>\n",
       "      <td>...</td>\n",
       "      <td>...</td>\n",
       "    </tr>\n",
       "    <tr>\n",
       "      <th>398</th>\n",
       "      <td>2023-11-05</td>\n",
       "      <td>138.0</td>\n",
       "      <td>69.0</td>\n",
       "      <td>27.0</td>\n",
       "      <td>10.0</td>\n",
       "      <td>7.0</td>\n",
       "      <td>7.0</td>\n",
       "    </tr>\n",
       "    <tr>\n",
       "      <th>399</th>\n",
       "      <td>2023-11-06</td>\n",
       "      <td>97.0</td>\n",
       "      <td>42.0</td>\n",
       "      <td>26.0</td>\n",
       "      <td>12.0</td>\n",
       "      <td>8.0</td>\n",
       "      <td>7.0</td>\n",
       "    </tr>\n",
       "    <tr>\n",
       "      <th>400</th>\n",
       "      <td>2023-11-07</td>\n",
       "      <td>59.0</td>\n",
       "      <td>67.0</td>\n",
       "      <td>26.0</td>\n",
       "      <td>23.0</td>\n",
       "      <td>15.0</td>\n",
       "      <td>10.0</td>\n",
       "    </tr>\n",
       "    <tr>\n",
       "      <th>401</th>\n",
       "      <td>2023-11-08</td>\n",
       "      <td>111.0</td>\n",
       "      <td>54.0</td>\n",
       "      <td>31.0</td>\n",
       "      <td>11.0</td>\n",
       "      <td>8.0</td>\n",
       "      <td>6.0</td>\n",
       "    </tr>\n",
       "    <tr>\n",
       "      <th>402</th>\n",
       "      <td>2023-11-09</td>\n",
       "      <td>59.0</td>\n",
       "      <td>18.0</td>\n",
       "      <td>29.0</td>\n",
       "      <td>9.0</td>\n",
       "      <td>4.0</td>\n",
       "      <td>4.0</td>\n",
       "    </tr>\n",
       "  </tbody>\n",
       "</table>\n",
       "<p>3058 rows × 7 columns</p>\n",
       "</div>"
      ],
      "text/plain": [
       "           date   PM25   PM10    O3   NO2   SO2    CO\n",
       "3482 2015-05-18  141.0   90.0  53.0  12.0  13.0  10.0\n",
       "3483 2015-05-19   98.0   44.0  48.0   7.0   6.0   7.0\n",
       "3484 2015-05-20   74.0   58.0  57.0  20.0  15.0  24.0\n",
       "3485 2015-05-21   87.0  118.0  71.0  22.0  24.0  17.0\n",
       "3486 2015-05-22  123.0  150.0  86.0  35.0  29.0  19.0\n",
       "...         ...    ...    ...   ...   ...   ...   ...\n",
       "398  2023-11-05  138.0   69.0  27.0  10.0   7.0   7.0\n",
       "399  2023-11-06   97.0   42.0  26.0  12.0   8.0   7.0\n",
       "400  2023-11-07   59.0   67.0  26.0  23.0  15.0  10.0\n",
       "401  2023-11-08  111.0   54.0  31.0  11.0   8.0   6.0\n",
       "402  2023-11-09   59.0   18.0  29.0   9.0   4.0   4.0\n",
       "\n",
       "[3058 rows x 7 columns]"
      ]
     },
     "execution_count": 140,
     "metadata": {},
     "output_type": "execute_result"
    }
   ],
   "source": [
    "training_data = pd.read_csv('data/baotou-training.csv')\n",
    "training_data.date = pd.to_datetime(training_data.date)\n",
    "training_data.columns = ['date','PM25','PM10','O3','NO2','SO2','CO']\n",
    "\n",
    "training_data.replace('Missing value', pd.NA, inplace=True)\n",
    "\n",
    "training_data['date'] = pd.to_datetime(training_data['date'])\n",
    "\n",
    "for col in training_data.columns:\n",
    "    if col != \"date\":\n",
    "        training_data[col] = pd.to_numeric(training_data[col], errors='coerce')\n",
    "\n",
    "training_data = training_data.dropna()\n",
    "\n",
    "training_data = training_data.sort_values('date', ascending=True)\n",
    "\n",
    "training_data"
   ]
  },
  {
   "cell_type": "code",
   "execution_count": 141,
   "metadata": {},
   "outputs": [
    {
     "name": "stdout",
     "output_type": "stream",
     "text": [
      "<class 'numpy.ndarray'>\n"
     ]
    },
    {
     "data": {
      "text/plain": [
       "[<matplotlib.lines.Line2D at 0x35d833530>]"
      ]
     },
     "execution_count": 141,
     "metadata": {},
     "output_type": "execute_result"
    },
    {
     "data": {
      "image/png": "[encoded data removed]",
      "text/plain": [
       "<Figure size 640x480 with 1 Axes>"
      ]
     },
     "metadata": {},
     "output_type": "display_data"
    }
   ],
   "source": [
    "training_data = training_data.iloc[:, 1].values\n",
    "print(type(training_data))\n",
    "plt.plot(training_data)"
   ]
  },
  {
   "cell_type": "code",
   "execution_count": 142,
   "metadata": {},
   "outputs": [],
   "source": [
    "from sklearn.preprocessing import MinMaxScaler\n",
    "scaler = MinMaxScaler()\n",
    "training_data = scaler.fit_transform(training_data.reshape(-1, 1))\n"
   ]
  },
  {
   "cell_type": "code",
   "execution_count": 143,
   "metadata": {},
   "outputs": [],
   "source": [
    "x_training_data = []\n",
    "y_training_data =[]\n",
    "for i in range(700, len(training_data)):\n",
    "    x_training_data.append(training_data[i-700:i, 0])\n",
    "    y_training_data.append(training_data[i, 0])"
   ]
  },
  {
   "cell_type": "code",
   "execution_count": 144,
   "metadata": {},
   "outputs": [],
   "source": [
    "x_training_data = np.array(x_training_data)\n",
    "y_training_data = np.array(y_training_data)"
   ]
  },
  {
   "cell_type": "code",
   "execution_count": 145,
   "metadata": {},
   "outputs": [
    {
     "name": "stdout",
     "output_type": "stream",
     "text": [
      "(2358, 700)\n",
      "(2358,)\n"
     ]
    }
   ],
   "source": [
    "print(x_training_data.shape)\n",
    "print(y_training_data.shape)"
   ]
  },
  {
   "cell_type": "code",
   "execution_count": 146,
   "metadata": {},
   "outputs": [],
   "source": [
    "x_training_data = np.reshape(x_training_data, (x_training_data.shape[0],\n",
    "                                               x_training_data.shape[1],\n",
    "                                               1))"
   ]
  },
  {
   "cell_type": "code",
   "execution_count": 147,
   "metadata": {},
   "outputs": [
    {
     "name": "stdout",
     "output_type": "stream",
     "text": [
      "(2358, 700, 1)\n"
     ]
    }
   ],
   "source": [
    "print(x_training_data.shape)"
   ]
  },
  {
   "cell_type": "code",
   "execution_count": 148,
   "metadata": {},
   "outputs": [],
   "source": [
    "from keras.models import Sequential\n",
    "from keras.layers import Dense\n",
    "from keras.layers import LSTM\n",
    "from keras.layers import Dropout"
   ]
  },
  {
   "cell_type": "code",
   "execution_count": 149,
   "metadata": {},
   "outputs": [],
   "source": [
    "rnn = Sequential()"
   ]
  },
  {
   "cell_type": "code",
   "execution_count": 150,
   "metadata": {},
   "outputs": [
    {
     "name": "stderr",
     "output_type": "stream",
     "text": [
      "/opt/anaconda3/lib/python3.12/site-packages/keras/src/layers/rnn/rnn.py:204: UserWarning: Do not pass an `input_shape`/`input_dim` argument to a layer. When using Sequential models, prefer using an `Input(shape)` object as the first layer in the model instead.\n",
      "  super().__init__(**kwargs)\n"
     ]
    }
   ],
   "source": [
    "rnn.add(LSTM(units = 64, return_sequences = True, input_shape = (x_training_data.shape[1], 1)))"
   ]
  },
  {
   "cell_type": "code",
   "execution_count": 151,
   "metadata": {},
   "outputs": [],
   "source": [
    "rnn.add(Dropout(0.2))"
   ]
  },
  {
   "cell_type": "code",
   "execution_count": 152,
   "metadata": {},
   "outputs": [],
   "source": [
    "rnn.add(LSTM(units = 64, return_sequences = True))\n",
    "rnn.add(Dropout(0.2))\n",
    "rnn.add(LSTM(units = 64, return_sequences = True))\n",
    "rnn.add(Dropout(0.2))\n",
    "rnn.add(LSTM(units = 64))\n",
    "rnn.add(Dropout(0.2))"
   ]
  },
  {
   "cell_type": "code",
   "execution_count": 153,
   "metadata": {},
   "outputs": [],
   "source": [
    "rnn.add(Dense(units = 1))"
   ]
  },
  {
   "cell_type": "code",
   "execution_count": 154,
   "metadata": {},
   "outputs": [],
   "source": [
    "rnn.compile(optimizer = 'adam', loss = 'mae')"
   ]
  },
  {
   "cell_type": "code",
   "execution_count": 155,
   "metadata": {},
   "outputs": [],
   "source": [
    "# -----"
   ]
  },
  {
   "cell_type": "code",
   "execution_count": 156,
   "metadata": {},
   "outputs": [],
   "source": [
    "from sklearn.model_selection import train_test_split\n",
    "\n",
    "split_ratio = 0.9\n",
    "split_index = int(len(x_training_data) * split_ratio)\n",
    "\n",
    "x_train = x_training_data[:split_index]\n",
    "y_train = y_training_data[:split_index]\n",
    "x_val = x_training_data[split_index:]\n",
    "y_val = y_training_data[split_index:]"
   ]
  },
  {
   "cell_type": "code",
   "execution_count": 157,
   "metadata": {},
   "outputs": [],
   "source": [
    "from keras.callbacks import EarlyStopping\n",
    "\n",
    "early_stop = EarlyStopping(\n",
    "    monitor='val_loss',\n",
    "    patience=20,\n",
    "    restore_best_weights=True,\n",
    "    min_delta=0.000001\n",
    ")"
   ]
  },
  {
   "cell_type": "code",
   "execution_count": 158,
   "metadata": {},
   "outputs": [
    {
     "name": "stdout",
     "output_type": "stream",
     "text": [
      "Epoch 1/45\n",
      "\u001b[1m67/67\u001b[0m \u001b[32m━━━━━━━━━━━━━━━━━━━━\u001b[0m\u001b[37m\u001b[0m \u001b[1m44s\u001b[0m 630ms/step - loss: 0.0597 - val_loss: 0.0407\n",
      "Epoch 2/45\n",
      "\u001b[1m67/67\u001b[0m \u001b[32m━━━━━━━━━━━━━━━━━━━━\u001b[0m\u001b[37m\u001b[0m \u001b[1m40s\u001b[0m 601ms/step - loss: 0.0503 - val_loss: 0.0390\n",
      "Epoch 3/45\n",
      "\u001b[1m67/67\u001b[0m \u001b[32m━━━━━━━━━━━━━━━━━━━━\u001b[0m\u001b[37m\u001b[0m \u001b[1m39s\u001b[0m 584ms/step - loss: 0.0484 - val_loss: 0.0478\n",
      "Epoch 4/45\n",
      "\u001b[1m67/67\u001b[0m \u001b[32m━━━━━━━━━━━━━━━━━━━━\u001b[0m\u001b[37m\u001b[0m \u001b[1m40s\u001b[0m 592ms/step - loss: 0.0485 - val_loss: 0.0402\n",
      "Epoch 5/45\n",
      "\u001b[1m67/67\u001b[0m \u001b[32m━━━━━━━━━━━━━━━━━━━━\u001b[0m\u001b[37m\u001b[0m \u001b[1m39s\u001b[0m 578ms/step - loss: 0.0504 - val_loss: 0.0403\n",
      "Epoch 6/45\n",
      "\u001b[1m67/67\u001b[0m \u001b[32m━━━━━━━━━━━━━━━━━━━━\u001b[0m\u001b[37m\u001b[0m \u001b[1m39s\u001b[0m 586ms/step - loss: 0.0487 - val_loss: 0.0406\n",
      "Epoch 7/45\n",
      "\u001b[1m67/67\u001b[0m \u001b[32m━━━━━━━━━━━━━━━━━━━━\u001b[0m\u001b[37m\u001b[0m \u001b[1m39s\u001b[0m 584ms/step - loss: 0.0499 - val_loss: 0.0422\n",
      "Epoch 8/45\n",
      "\u001b[1m67/67\u001b[0m \u001b[32m━━━━━━━━━━━━━━━━━━━━\u001b[0m\u001b[37m\u001b[0m \u001b[1m39s\u001b[0m 588ms/step - loss: 0.0489 - val_loss: 0.0402\n",
      "Epoch 9/45\n",
      "\u001b[1m67/67\u001b[0m \u001b[32m━━━━━━━━━━━━━━━━━━━━\u001b[0m\u001b[37m\u001b[0m \u001b[1m39s\u001b[0m 578ms/step - loss: 0.0498 - val_loss: 0.0400\n",
      "Epoch 10/45\n",
      "\u001b[1m67/67\u001b[0m \u001b[32m━━━━━━━━━━━━━━━━━━━━\u001b[0m\u001b[37m\u001b[0m \u001b[1m40s\u001b[0m 591ms/step - loss: 0.0482 - val_loss: 0.0381\n",
      "Epoch 11/45\n",
      "\u001b[1m67/67\u001b[0m \u001b[32m━━━━━━━━━━━━━━━━━━━━\u001b[0m\u001b[37m\u001b[0m \u001b[1m38s\u001b[0m 574ms/step - loss: 0.0482 - val_loss: 0.0379\n",
      "Epoch 12/45\n",
      "\u001b[1m67/67\u001b[0m \u001b[32m━━━━━━━━━━━━━━━━━━━━\u001b[0m\u001b[37m\u001b[0m \u001b[1m39s\u001b[0m 587ms/step - loss: 0.0468 - val_loss: 0.0411\n",
      "Epoch 13/45\n",
      "\u001b[1m67/67\u001b[0m \u001b[32m━━━━━━━━━━━━━━━━━━━━\u001b[0m\u001b[37m\u001b[0m \u001b[1m39s\u001b[0m 585ms/step - loss: 0.0490 - val_loss: 0.0403\n",
      "Epoch 14/45\n",
      "\u001b[1m67/67\u001b[0m \u001b[32m━━━━━━━━━━━━━━━━━━━━\u001b[0m\u001b[37m\u001b[0m \u001b[1m39s\u001b[0m 586ms/step - loss: 0.0478 - val_loss: 0.0430\n",
      "Epoch 15/45\n",
      "\u001b[1m67/67\u001b[0m \u001b[32m━━━━━━━━━━━━━━━━━━━━\u001b[0m\u001b[37m\u001b[0m \u001b[1m39s\u001b[0m 588ms/step - loss: 0.0468 - val_loss: 0.0412\n",
      "Epoch 16/45\n",
      "\u001b[1m67/67\u001b[0m \u001b[32m━━━━━━━━━━━━━━━━━━━━\u001b[0m\u001b[37m\u001b[0m \u001b[1m39s\u001b[0m 589ms/step - loss: 0.0462 - val_loss: 0.0388\n",
      "Epoch 17/45\n",
      "\u001b[1m67/67\u001b[0m \u001b[32m━━━━━━━━━━━━━━━━━━━━\u001b[0m\u001b[37m\u001b[0m \u001b[1m40s\u001b[0m 592ms/step - loss: 0.0459 - val_loss: 0.0380\n",
      "Epoch 18/45\n",
      "\u001b[1m67/67\u001b[0m \u001b[32m━━━━━━━━━━━━━━━━━━━━\u001b[0m\u001b[37m\u001b[0m \u001b[1m40s\u001b[0m 593ms/step - loss: 0.0473 - val_loss: 0.0373\n",
      "Epoch 19/45\n",
      "\u001b[1m67/67\u001b[0m \u001b[32m━━━━━━━━━━━━━━━━━━━━\u001b[0m\u001b[37m\u001b[0m \u001b[1m38s\u001b[0m 570ms/step - loss: 0.0444 - val_loss: 0.0364\n",
      "Epoch 20/45\n",
      "\u001b[1m67/67\u001b[0m \u001b[32m━━━━━━━━━━━━━━━━━━━━\u001b[0m\u001b[37m\u001b[0m \u001b[1m39s\u001b[0m 583ms/step - loss: 0.0448 - val_loss: 0.0388\n",
      "Epoch 21/45\n",
      "\u001b[1m67/67\u001b[0m \u001b[32m━━━━━━━━━━━━━━━━━━━━\u001b[0m\u001b[37m\u001b[0m \u001b[1m39s\u001b[0m 585ms/step - loss: 0.0445 - val_loss: 0.0380\n",
      "Epoch 22/45\n",
      "\u001b[1m67/67\u001b[0m \u001b[32m━━━━━━━━━━━━━━━━━━━━\u001b[0m\u001b[37m\u001b[0m \u001b[1m39s\u001b[0m 588ms/step - loss: 0.0423 - val_loss: 0.0369\n",
      "Epoch 23/45\n",
      "\u001b[1m67/67\u001b[0m \u001b[32m━━━━━━━━━━━━━━━━━━━━\u001b[0m\u001b[37m\u001b[0m \u001b[1m39s\u001b[0m 587ms/step - loss: 0.0427 - val_loss: 0.0336\n",
      "Epoch 24/45\n",
      "\u001b[1m67/67\u001b[0m \u001b[32m━━━━━━━━━━━━━━━━━━━━\u001b[0m\u001b[37m\u001b[0m \u001b[1m40s\u001b[0m 596ms/step - loss: 0.0426 - val_loss: 0.0376\n",
      "Epoch 25/45\n",
      "\u001b[1m67/67\u001b[0m \u001b[32m━━━━━━━━━━━━━━━━━━━━\u001b[0m\u001b[37m\u001b[0m \u001b[1m39s\u001b[0m 581ms/step - loss: 0.0421 - val_loss: 0.0340\n",
      "Epoch 26/45\n",
      "\u001b[1m67/67\u001b[0m \u001b[32m━━━━━━━━━━━━━━━━━━━━\u001b[0m\u001b[37m\u001b[0m \u001b[1m39s\u001b[0m 589ms/step - loss: 0.0412 - val_loss: 0.0342\n",
      "Epoch 27/45\n",
      "\u001b[1m67/67\u001b[0m \u001b[32m━━━━━━━━━━━━━━━━━━━━\u001b[0m\u001b[37m\u001b[0m \u001b[1m39s\u001b[0m 581ms/step - loss: 0.0426 - val_loss: 0.0337\n",
      "Epoch 28/45\n",
      "\u001b[1m67/67\u001b[0m \u001b[32m━━━━━━━━━━━━━━━━━━━━\u001b[0m\u001b[37m\u001b[0m \u001b[1m39s\u001b[0m 577ms/step - loss: 0.0419 - val_loss: 0.0345\n",
      "Epoch 29/45\n",
      "\u001b[1m67/67\u001b[0m \u001b[32m━━━━━━━━━━━━━━━━━━━━\u001b[0m\u001b[37m\u001b[0m \u001b[1m39s\u001b[0m 582ms/step - loss: 0.0413 - val_loss: 0.0372\n",
      "Epoch 30/45\n",
      "\u001b[1m67/67\u001b[0m \u001b[32m━━━━━━━━━━━━━━━━━━━━\u001b[0m\u001b[37m\u001b[0m \u001b[1m39s\u001b[0m 586ms/step - loss: 0.0421 - val_loss: 0.0341\n",
      "Epoch 31/45\n",
      "\u001b[1m67/67\u001b[0m \u001b[32m━━━━━━━━━━━━━━━━━━━━\u001b[0m\u001b[37m\u001b[0m \u001b[1m39s\u001b[0m 577ms/step - loss: 0.0429 - val_loss: 0.0332\n",
      "Epoch 32/45\n",
      "\u001b[1m67/67\u001b[0m \u001b[32m━━━━━━━━━━━━━━━━━━━━\u001b[0m\u001b[37m\u001b[0m \u001b[1m39s\u001b[0m 589ms/step - loss: 0.0403 - val_loss: 0.0357\n",
      "Epoch 33/45\n",
      "\u001b[1m67/67\u001b[0m \u001b[32m━━━━━━━━━━━━━━━━━━━━\u001b[0m\u001b[37m\u001b[0m \u001b[1m39s\u001b[0m 580ms/step - loss: 0.0407 - val_loss: 0.0339\n",
      "Epoch 34/45\n",
      "\u001b[1m67/67\u001b[0m \u001b[32m━━━━━━━━━━━━━━━━━━━━\u001b[0m\u001b[37m\u001b[0m \u001b[1m39s\u001b[0m 588ms/step - loss: 0.0404 - val_loss: 0.0356\n",
      "Epoch 35/45\n",
      "\u001b[1m67/67\u001b[0m \u001b[32m━━━━━━━━━━━━━━━━━━━━\u001b[0m\u001b[37m\u001b[0m \u001b[1m39s\u001b[0m 580ms/step - loss: 0.0422 - val_loss: 0.0352\n",
      "Epoch 36/45\n",
      "\u001b[1m67/67\u001b[0m \u001b[32m━━━━━━━━━━━━━━━━━━━━\u001b[0m\u001b[37m\u001b[0m \u001b[1m39s\u001b[0m 584ms/step - loss: 0.0407 - val_loss: 0.0343\n",
      "Epoch 37/45\n",
      "\u001b[1m67/67\u001b[0m \u001b[32m━━━━━━━━━━━━━━━━━━━━\u001b[0m\u001b[37m\u001b[0m \u001b[1m38s\u001b[0m 572ms/step - loss: 0.0402 - val_loss: 0.0338\n",
      "Epoch 38/45\n",
      "\u001b[1m67/67\u001b[0m \u001b[32m━━━━━━━━━━━━━━━━━━━━\u001b[0m\u001b[37m\u001b[0m \u001b[1m39s\u001b[0m 576ms/step - loss: 0.0423 - val_loss: 0.0331\n",
      "Epoch 39/45\n",
      "\u001b[1m67/67\u001b[0m \u001b[32m━━━━━━━━━━━━━━━━━━━━\u001b[0m\u001b[37m\u001b[0m \u001b[1m39s\u001b[0m 582ms/step - loss: 0.0407 - val_loss: 0.0344\n",
      "Epoch 40/45\n",
      "\u001b[1m67/67\u001b[0m \u001b[32m━━━━━━━━━━━━━━━━━━━━\u001b[0m\u001b[37m\u001b[0m \u001b[1m39s\u001b[0m 578ms/step - loss: 0.0408 - val_loss: 0.0345\n",
      "Epoch 41/45\n",
      "\u001b[1m67/67\u001b[0m \u001b[32m━━━━━━━━━━━━━━━━━━━━\u001b[0m\u001b[37m\u001b[0m \u001b[1m38s\u001b[0m 569ms/step - loss: 0.0416 - val_loss: 0.0351\n",
      "Epoch 42/45\n",
      "\u001b[1m67/67\u001b[0m \u001b[32m━━━━━━━━━━━━━━━━━━━━\u001b[0m\u001b[37m\u001b[0m \u001b[1m38s\u001b[0m 566ms/step - loss: 0.0412 - val_loss: 0.0339\n",
      "Epoch 43/45\n",
      "\u001b[1m67/67\u001b[0m \u001b[32m━━━━━━━━━━━━━━━━━━━━\u001b[0m\u001b[37m\u001b[0m \u001b[1m39s\u001b[0m 582ms/step - loss: 0.0415 - val_loss: 0.0345\n",
      "Epoch 44/45\n",
      "\u001b[1m67/67\u001b[0m \u001b[32m━━━━━━━━━━━━━━━━━━━━\u001b[0m\u001b[37m\u001b[0m \u001b[1m38s\u001b[0m 568ms/step - loss: 0.0417 - val_loss: 0.0366\n",
      "Epoch 45/45\n",
      "\u001b[1m67/67\u001b[0m \u001b[32m━━━━━━━━━━━━━━━━━━━━\u001b[0m\u001b[37m\u001b[0m \u001b[1m38s\u001b[0m 574ms/step - loss: 0.0421 - val_loss: 0.0332\n"
     ]
    },
    {
     "data": {
      "text/plain": [
       "<keras.src.callbacks.history.History at 0x360a61940>"
      ]
     },
     "execution_count": 158,
     "metadata": {},
     "output_type": "execute_result"
    }
   ],
   "source": [
    "rnn.fit(\n",
    "    x_train, y_train,\n",
    "    validation_data=(x_val, y_val),\n",
    "    epochs=45,\n",
    "    batch_size=32,\n",
    "    callbacks=[early_stop]\n",
    ")"
   ]
  },
  {
   "cell_type": "code",
   "execution_count": 159,
   "metadata": {},
   "outputs": [],
   "source": [
    "rnn.save('pm25_lstm_model.keras')"
   ]
  },
  {
   "cell_type": "code",
   "execution_count": 160,
   "metadata": {},
   "outputs": [
    {
     "name": "stderr",
     "output_type": "stream",
     "text": [
      "/var/folders/n0/qhjx1vrd1c1b846x7pqgmbg40000gn/T/ipykernel_95871/41312521.py:2: UserWarning: Could not infer format, so each element will be parsed individually, falling back to `dateutil`. To ensure parsing is consistent and as-expected, please specify a format.\n",
      "  test_data.date = pd.to_datetime(test_data.date)\n"
     ]
    },
    {
     "data": {
      "application/vnd.microsoft.datawrangler.viewer.v0+json": {
       "columns": [
        {
         "name": "index",
         "rawType": "int64",
         "type": "integer"
        },
        {
         "name": "date",
         "rawType": "datetime64[ns]",
         "type": "datetime"
        },
        {
         "name": "PM25",
         "rawType": "int64",
         "type": "integer"
        },
        {
         "name": "PM10",
         "rawType": "float64",
         "type": "float"
        },
        {
         "name": "O3",
         "rawType": "float64",
         "type": "float"
        },
        {
         "name": "NO2",
         "rawType": "float64",
         "type": "float"
        },
        {
         "name": "SO2",
         "rawType": "float64",
         "type": "float"
        },
        {
         "name": "CO",
         "rawType": "float64",
         "type": "float"
        }
       ],
       "ref": "aa89be42-cfe8-46f8-89dc-262e53315441",
       "rows": [
        [
         "100",
         "2025-01-02 00:00:00",
         "129",
         "40.0",
         null,
         "17.0",
         "9.0",
         "7.0"
        ],
        [
         "101",
         "2025-01-03 00:00:00",
         "65",
         "59.0",
         null,
         "29.0",
         "16.0",
         "17.0"
        ],
        [
         "102",
         "2025-01-04 00:00:00",
         "103",
         "84.0",
         null,
         "27.0",
         "13.0",
         "17.0"
        ],
        [
         "103",
         "2025-01-05 00:00:00",
         "119",
         "77.0",
         null,
         "13.0",
         "7.0",
         "7.0"
        ],
        [
         "104",
         "2025-01-06 00:00:00",
         "81",
         "43.0",
         null,
         "20.0",
         "10.0",
         "11.0"
        ],
        [
         "105",
         "2025-01-07 00:00:00",
         "77",
         "50.0",
         null,
         "17.0",
         "17.0",
         "11.0"
        ],
        [
         "106",
         "2025-01-08 00:00:00",
         "78",
         "14.0",
         null,
         "6.0",
         "4.0",
         "4.0"
        ],
        [
         "107",
         "2025-01-09 00:00:00",
         "22",
         "41.0",
         null,
         "19.0",
         "9.0",
         "9.0"
        ],
        [
         "108",
         "2025-01-10 00:00:00",
         "81",
         "60.0",
         null,
         "22.0",
         "12.0",
         "12.0"
        ],
        [
         "109",
         "2025-01-11 00:00:00",
         "99",
         "60.0",
         null,
         "18.0",
         "7.0",
         "9.0"
        ],
        [
         "110",
         "2025-01-12 00:00:00",
         "88",
         "41.0",
         null,
         "21.0",
         "9.0",
         "9.0"
        ],
        [
         "111",
         "2025-01-13 00:00:00",
         "80",
         "87.0",
         null,
         "19.0",
         "14.0",
         "13.0"
        ],
        [
         "112",
         "2025-01-14 00:00:00",
         "118",
         "17.0",
         null,
         "7.0",
         "4.0",
         "4.0"
        ],
        [
         "113",
         "2025-01-15 00:00:00",
         "36",
         "67.0",
         null,
         "26.0",
         "12.0",
         "16.0"
        ],
        [
         "114",
         "2025-01-16 00:00:00",
         "122",
         "80.0",
         null,
         "29.0",
         "10.0",
         "15.0"
        ],
        [
         "115",
         "2025-01-17 00:00:00",
         "122",
         "89.0",
         null,
         "31.0",
         "14.0",
         "22.0"
        ],
        [
         "116",
         "2025-01-18 00:00:00",
         "152",
         "88.0",
         null,
         "30.0",
         "24.0",
         "19.0"
        ],
        [
         "117",
         "2025-01-19 00:00:00",
         "146",
         "82.0",
         null,
         "30.0",
         "13.0",
         "18.0"
        ],
        [
         "118",
         "2025-01-20 00:00:00",
         "125",
         "86.0",
         null,
         "33.0",
         "13.0",
         "18.0"
        ],
        [
         "119",
         "2025-01-21 00:00:00",
         "158",
         "87.0",
         null,
         "31.0",
         "14.0",
         "19.0"
        ],
        [
         "120",
         "2025-01-22 00:00:00",
         "160",
         "88.0",
         null,
         "29.0",
         "13.0",
         "18.0"
        ],
        [
         "121",
         "2025-01-23 00:00:00",
         "166",
         "97.0",
         null,
         "33.0",
         "17.0",
         "24.0"
        ],
        [
         "122",
         "2025-01-24 00:00:00",
         "182",
         "96.0",
         null,
         "35.0",
         "15.0",
         "23.0"
        ],
        [
         "123",
         "2025-01-25 00:00:00",
         "184",
         "114.0",
         null,
         "12.0",
         "6.0",
         "9.0"
        ],
        [
         "124",
         "2025-01-26 00:00:00",
         "126",
         "172.0",
         null,
         "6.0",
         "4.0",
         "4.0"
        ],
        [
         "125",
         "2025-01-27 00:00:00",
         "89",
         "30.0",
         null,
         "10.0",
         "4.0",
         "4.0"
        ],
        [
         "126",
         "2025-01-28 00:00:00",
         "50",
         "67.0",
         null,
         "21.0",
         "14.0",
         "6.0"
        ],
        [
         "127",
         "2025-01-29 00:00:00",
         "110",
         "435.0",
         null,
         "24.0",
         "28.0",
         "15.0"
        ],
        [
         "128",
         "2025-01-30 00:00:00",
         "490",
         "107.0",
         null,
         "26.0",
         "14.0",
         "21.0"
        ],
        [
         "129",
         "2025-01-31 00:00:00",
         "185",
         "98.0",
         null,
         "22.0",
         "12.0",
         "14.0"
        ],
        [
         "130",
         "2025-02-01 00:00:00",
         "176",
         "85.0",
         null,
         "23.0",
         "14.0",
         "15.0"
        ],
        [
         "131",
         "2025-02-02 00:00:00",
         "157",
         "27.0",
         null,
         "4.0",
         "5.0",
         "2.0"
        ],
        [
         "132",
         "2025-02-03 00:00:00",
         "52",
         "16.0",
         null,
         "5.0",
         "5.0",
         "2.0"
        ],
        [
         "133",
         "2025-02-04 00:00:00",
         "40",
         "36.0",
         null,
         "8.0",
         "4.0",
         "5.0"
        ],
        [
         "134",
         "2025-02-05 00:00:00",
         "57",
         "46.0",
         null,
         "8.0",
         "6.0",
         "7.0"
        ],
        [
         "135",
         "2025-02-06 00:00:00",
         "56",
         "88.0",
         null,
         "9.0",
         "6.0",
         "9.0"
        ],
        [
         "136",
         "2025-02-07 00:00:00",
         "71",
         "22.0",
         null,
         "5.0",
         "5.0",
         "6.0"
        ],
        [
         "137",
         "2025-02-08 00:00:00",
         "40",
         "26.0",
         null,
         "15.0",
         "8.0",
         "8.0"
        ],
        [
         "138",
         "2025-02-09 00:00:00",
         "59",
         "49.0",
         null,
         "23.0",
         "15.0",
         "12.0"
        ],
        [
         "139",
         "2025-02-10 00:00:00",
         "96",
         "71.0",
         null,
         "25.0",
         "10.0",
         "15.0"
        ],
        [
         "140",
         "2025-02-11 00:00:00",
         "133",
         "74.0",
         null,
         "18.0",
         "9.0",
         "9.0"
        ],
        [
         "141",
         "2025-02-12 00:00:00",
         "105",
         "83.0",
         null,
         "15.0",
         "12.0",
         "10.0"
        ],
        [
         "142",
         "2025-02-13 00:00:00",
         "109",
         "72.0",
         null,
         "27.0",
         "14.0",
         "15.0"
        ],
        [
         "143",
         "2025-02-14 00:00:00",
         "136",
         "101.0",
         null,
         "26.0",
         "14.0",
         "19.0"
        ],
        [
         "144",
         "2025-02-15 00:00:00",
         "132",
         "93.0",
         null,
         "18.0",
         "8.0",
         "9.0"
        ],
        [
         "145",
         "2025-02-16 00:00:00",
         "121",
         "33.0",
         null,
         "16.0",
         "6.0",
         "7.0"
        ],
        [
         "146",
         "2025-02-17 00:00:00",
         "57",
         "62.0",
         null,
         "24.0",
         "11.0",
         "12.0"
        ],
        [
         "147",
         "2025-02-18 00:00:00",
         "111",
         "26.0",
         null,
         "10.0",
         "5.0",
         "5.0"
        ],
        [
         "148",
         "2025-02-19 00:00:00",
         "48",
         "34.0",
         null,
         "12.0",
         "9.0",
         "6.0"
        ],
        [
         "149",
         "2025-02-20 00:00:00",
         "71",
         "30.0",
         null,
         "14.0",
         "7.0",
         "8.0"
        ]
       ],
       "shape": {
        "columns": 7,
        "rows": 190
       }
      },
      "text/html": [
       "<div>\n",
       "<style scoped>\n",
       "    .dataframe tbody tr th:only-of-type {\n",
       "        vertical-align: middle;\n",
       "    }\n",
       "\n",
       "    .dataframe tbody tr th {\n",
       "        vertical-align: top;\n",
       "    }\n",
       "\n",
       "    .dataframe thead th {\n",
       "        text-align: right;\n",
       "    }\n",
       "</style>\n",
       "<table border=\"1\" class=\"dataframe\">\n",
       "  <thead>\n",
       "    <tr style=\"text-align: right;\">\n",
       "      <th></th>\n",
       "      <th>date</th>\n",
       "      <th>PM25</th>\n",
       "      <th>PM10</th>\n",
       "      <th>O3</th>\n",
       "      <th>NO2</th>\n",
       "      <th>SO2</th>\n",
       "      <th>CO</th>\n",
       "    </tr>\n",
       "  </thead>\n",
       "  <tbody>\n",
       "    <tr>\n",
       "      <th>100</th>\n",
       "      <td>2025-01-02</td>\n",
       "      <td>129</td>\n",
       "      <td>40.0</td>\n",
       "      <td>NaN</td>\n",
       "      <td>17.0</td>\n",
       "      <td>9.0</td>\n",
       "      <td>7.0</td>\n",
       "    </tr>\n",
       "    <tr>\n",
       "      <th>101</th>\n",
       "      <td>2025-01-03</td>\n",
       "      <td>65</td>\n",
       "      <td>59.0</td>\n",
       "      <td>NaN</td>\n",
       "      <td>29.0</td>\n",
       "      <td>16.0</td>\n",
       "      <td>17.0</td>\n",
       "    </tr>\n",
       "    <tr>\n",
       "      <th>102</th>\n",
       "      <td>2025-01-04</td>\n",
       "      <td>103</td>\n",
       "      <td>84.0</td>\n",
       "      <td>NaN</td>\n",
       "      <td>27.0</td>\n",
       "      <td>13.0</td>\n",
       "      <td>17.0</td>\n",
       "    </tr>\n",
       "    <tr>\n",
       "      <th>103</th>\n",
       "      <td>2025-01-05</td>\n",
       "      <td>119</td>\n",
       "      <td>77.0</td>\n",
       "      <td>NaN</td>\n",
       "      <td>13.0</td>\n",
       "      <td>7.0</td>\n",
       "      <td>7.0</td>\n",
       "    </tr>\n",
       "    <tr>\n",
       "      <th>104</th>\n",
       "      <td>2025-01-06</td>\n",
       "      <td>81</td>\n",
       "      <td>43.0</td>\n",
       "      <td>NaN</td>\n",
       "      <td>20.0</td>\n",
       "      <td>10.0</td>\n",
       "      <td>11.0</td>\n",
       "    </tr>\n",
       "    <tr>\n",
       "      <th>...</th>\n",
       "      <td>...</td>\n",
       "      <td>...</td>\n",
       "      <td>...</td>\n",
       "      <td>...</td>\n",
       "      <td>...</td>\n",
       "      <td>...</td>\n",
       "      <td>...</td>\n",
       "    </tr>\n",
       "    <tr>\n",
       "      <th>4</th>\n",
       "      <td>2025-07-06</td>\n",
       "      <td>29</td>\n",
       "      <td>23.0</td>\n",
       "      <td>NaN</td>\n",
       "      <td>13.0</td>\n",
       "      <td>3.0</td>\n",
       "      <td>4.0</td>\n",
       "    </tr>\n",
       "    <tr>\n",
       "      <th>5</th>\n",
       "      <td>2025-07-07</td>\n",
       "      <td>44</td>\n",
       "      <td>20.0</td>\n",
       "      <td>NaN</td>\n",
       "      <td>11.0</td>\n",
       "      <td>3.0</td>\n",
       "      <td>5.0</td>\n",
       "    </tr>\n",
       "    <tr>\n",
       "      <th>6</th>\n",
       "      <td>2025-07-08</td>\n",
       "      <td>51</td>\n",
       "      <td>26.0</td>\n",
       "      <td>NaN</td>\n",
       "      <td>10.0</td>\n",
       "      <td>5.0</td>\n",
       "      <td>7.0</td>\n",
       "    </tr>\n",
       "    <tr>\n",
       "      <th>7</th>\n",
       "      <td>2025-07-09</td>\n",
       "      <td>73</td>\n",
       "      <td>23.0</td>\n",
       "      <td>NaN</td>\n",
       "      <td>6.0</td>\n",
       "      <td>4.0</td>\n",
       "      <td>7.0</td>\n",
       "    </tr>\n",
       "    <tr>\n",
       "      <th>8</th>\n",
       "      <td>2025-07-10</td>\n",
       "      <td>71</td>\n",
       "      <td>NaN</td>\n",
       "      <td>NaN</td>\n",
       "      <td>NaN</td>\n",
       "      <td>NaN</td>\n",
       "      <td>NaN</td>\n",
       "    </tr>\n",
       "  </tbody>\n",
       "</table>\n",
       "<p>190 rows × 7 columns</p>\n",
       "</div>"
      ],
      "text/plain": [
       "          date  PM25  PM10  O3   NO2   SO2    CO\n",
       "100 2025-01-02   129  40.0 NaN  17.0   9.0   7.0\n",
       "101 2025-01-03    65  59.0 NaN  29.0  16.0  17.0\n",
       "102 2025-01-04   103  84.0 NaN  27.0  13.0  17.0\n",
       "103 2025-01-05   119  77.0 NaN  13.0   7.0   7.0\n",
       "104 2025-01-06    81  43.0 NaN  20.0  10.0  11.0\n",
       "..         ...   ...   ...  ..   ...   ...   ...\n",
       "4   2025-07-06    29  23.0 NaN  13.0   3.0   4.0\n",
       "5   2025-07-07    44  20.0 NaN  11.0   3.0   5.0\n",
       "6   2025-07-08    51  26.0 NaN  10.0   5.0   7.0\n",
       "7   2025-07-09    73  23.0 NaN   6.0   4.0   7.0\n",
       "8   2025-07-10    71   NaN NaN   NaN   NaN   NaN\n",
       "\n",
       "[190 rows x 7 columns]"
      ]
     },
     "execution_count": 160,
     "metadata": {},
     "output_type": "execute_result"
    }
   ],
   "source": [
    "test_data = pd.read_csv('data/baotou-testing.csv')\n",
    "test_data.date = pd.to_datetime(test_data.date)\n",
    "test_data.columns = ['date','PM25','PM10','O3','NO2','SO2','CO']\n",
    "\n",
    "test_data['date'] = pd.to_datetime(test_data['date'])\n",
    "\n",
    "for col in test_data.columns:\n",
    "    if col != \"date\":\n",
    "        test_data[col] = pd.to_numeric(test_data[col], errors='coerce')\n",
    "\n",
    "test_data = test_data.sort_values('date', ascending=True)\n",
    "\n",
    "test_data"
   ]
  },
  {
   "cell_type": "code",
   "execution_count": 161,
   "metadata": {},
   "outputs": [
    {
     "name": "stdout",
     "output_type": "stream",
     "text": [
      "(190,)\n"
     ]
    },
    {
     "data": {
      "image/png": "[encoded data removed]",
      "text/plain": [
       "<Figure size 640x480 with 1 Axes>"
      ]
     },
     "metadata": {},
     "output_type": "display_data"
    }
   ],
   "source": [
    "test_data = test_data.iloc[:,1].values\n",
    "print(test_data.shape)\n",
    "plt.plot(test_data);"
   ]
  },
  {
   "cell_type": "code",
   "execution_count": 162,
   "metadata": {},
   "outputs": [
    {
     "name": "stderr",
     "output_type": "stream",
     "text": [
      "/var/folders/n0/qhjx1vrd1c1b846x7pqgmbg40000gn/T/ipykernel_95871/3006983199.py:2: UserWarning: Could not infer format, so each element will be parsed individually, falling back to `dateutil`. To ensure parsing is consistent and as-expected, please specify a format.\n",
      "  unscaled_testing_data.date = pd.to_datetime(unscaled_testing_data.date)\n"
     ]
    }
   ],
   "source": [
    "unscaled_testing_data = pd.read_csv('data/baotou-testing.csv')\n",
    "unscaled_testing_data.date = pd.to_datetime(unscaled_testing_data.date)\n",
    "unscaled_testing_data.columns = ['date','PM25','PM10','O3','NO2','SO2','CO']\n",
    "\n",
    "unscaled_testing_data.replace('Missing value', pd.NA, inplace=True)\n",
    "\n",
    "unscaled_testing_data['date'] = pd.to_datetime(unscaled_testing_data['date'])\n",
    "\n",
    "for col in unscaled_testing_data.columns:\n",
    "    if col != \"date\":\n",
    "        unscaled_testing_data[col] = pd.to_numeric(unscaled_testing_data[col], errors='coerce')\n",
    "\n",
    "unscaled_testing_data = unscaled_testing_data.dropna()\n",
    "\n",
    "unscaled_testing_data = unscaled_testing_data.sort_values('date', ascending=True)"
   ]
  },
  {
   "cell_type": "code",
   "execution_count": 163,
   "metadata": {},
   "outputs": [
    {
     "name": "stderr",
     "output_type": "stream",
     "text": [
      "/var/folders/n0/qhjx1vrd1c1b846x7pqgmbg40000gn/T/ipykernel_95871/195247760.py:3: UserWarning: Could not infer format, so each element will be parsed individually, falling back to `dateutil`. To ensure parsing is consistent and as-expected, please specify a format.\n",
      "  df.date = pd.to_datetime(df.date)\n",
      "/var/folders/n0/qhjx1vrd1c1b846x7pqgmbg40000gn/T/ipykernel_95871/195247760.py:3: UserWarning: Could not infer format, so each element will be parsed individually, falling back to `dateutil`. To ensure parsing is consistent and as-expected, please specify a format.\n",
      "  df.date = pd.to_datetime(df.date)\n"
     ]
    }
   ],
   "source": [
    "def read_and_clean(filepath):\n",
    "    df = pd.read_csv(filepath)\n",
    "    df.date = pd.to_datetime(df.date)\n",
    "    df.columns = ['date','PM25','PM10','O3','NO2','SO2','CO']\n",
    "\n",
    "    df.replace('Missing value', pd.NA, inplace=True)\n",
    "\n",
    "    df['date'] = pd.to_datetime(df['date'])\n",
    "\n",
    "    for col in df.columns:\n",
    "        if col != \"date\":\n",
    "            df[col] = pd.to_numeric(df[col], errors='coerce')\n",
    "\n",
    "    df = df.sort_values('date', ascending=True)\n",
    "\n",
    "    return df\n",
    "\n",
    "unscaled_training_data = read_and_clean('data/baotou-training.csv').dropna()\n",
    "unscaled_test_data = read_and_clean('data/baotou-testing.csv')"
   ]
  },
  {
   "cell_type": "code",
   "execution_count": 164,
   "metadata": {},
   "outputs": [
    {
     "data": {
      "application/vnd.microsoft.datawrangler.viewer.v0+json": {
       "columns": [
        {
         "name": "index",
         "rawType": "int64",
         "type": "integer"
        },
        {
         "name": "date",
         "rawType": "datetime64[ns]",
         "type": "datetime"
        },
        {
         "name": "PM25",
         "rawType": "float64",
         "type": "float"
        },
        {
         "name": "PM10",
         "rawType": "float64",
         "type": "float"
        },
        {
         "name": "O3",
         "rawType": "float64",
         "type": "float"
        },
        {
         "name": "NO2",
         "rawType": "float64",
         "type": "float"
        },
        {
         "name": "SO2",
         "rawType": "float64",
         "type": "float"
        },
        {
         "name": "CO",
         "rawType": "float64",
         "type": "float"
        }
       ],
       "ref": "263cf9fb-751c-4c2b-b833-b2a23c266628",
       "rows": [
        [
         "398",
         "2023-11-05 00:00:00",
         "138.0",
         "69.0",
         "27.0",
         "10.0",
         "7.0",
         "7.0"
        ],
        [
         "399",
         "2023-11-06 00:00:00",
         "97.0",
         "42.0",
         "26.0",
         "12.0",
         "8.0",
         "7.0"
        ],
        [
         "400",
         "2023-11-07 00:00:00",
         "59.0",
         "67.0",
         "26.0",
         "23.0",
         "15.0",
         "10.0"
        ],
        [
         "401",
         "2023-11-08 00:00:00",
         "111.0",
         "54.0",
         "31.0",
         "11.0",
         "8.0",
         "6.0"
        ],
        [
         "402",
         "2023-11-09 00:00:00",
         "59.0",
         "18.0",
         "29.0",
         "9.0",
         "4.0",
         "4.0"
        ]
       ],
       "shape": {
        "columns": 7,
        "rows": 5
       }
      },
      "text/html": [
       "<div>\n",
       "<style scoped>\n",
       "    .dataframe tbody tr th:only-of-type {\n",
       "        vertical-align: middle;\n",
       "    }\n",
       "\n",
       "    .dataframe tbody tr th {\n",
       "        vertical-align: top;\n",
       "    }\n",
       "\n",
       "    .dataframe thead th {\n",
       "        text-align: right;\n",
       "    }\n",
       "</style>\n",
       "<table border=\"1\" class=\"dataframe\">\n",
       "  <thead>\n",
       "    <tr style=\"text-align: right;\">\n",
       "      <th></th>\n",
       "      <th>date</th>\n",
       "      <th>PM25</th>\n",
       "      <th>PM10</th>\n",
       "      <th>O3</th>\n",
       "      <th>NO2</th>\n",
       "      <th>SO2</th>\n",
       "      <th>CO</th>\n",
       "    </tr>\n",
       "  </thead>\n",
       "  <tbody>\n",
       "    <tr>\n",
       "      <th>398</th>\n",
       "      <td>2023-11-05</td>\n",
       "      <td>138.0</td>\n",
       "      <td>69.0</td>\n",
       "      <td>27.0</td>\n",
       "      <td>10.0</td>\n",
       "      <td>7.0</td>\n",
       "      <td>7.0</td>\n",
       "    </tr>\n",
       "    <tr>\n",
       "      <th>399</th>\n",
       "      <td>2023-11-06</td>\n",
       "      <td>97.0</td>\n",
       "      <td>42.0</td>\n",
       "      <td>26.0</td>\n",
       "      <td>12.0</td>\n",
       "      <td>8.0</td>\n",
       "      <td>7.0</td>\n",
       "    </tr>\n",
       "    <tr>\n",
       "      <th>400</th>\n",
       "      <td>2023-11-07</td>\n",
       "      <td>59.0</td>\n",
       "      <td>67.0</td>\n",
       "      <td>26.0</td>\n",
       "      <td>23.0</td>\n",
       "      <td>15.0</td>\n",
       "      <td>10.0</td>\n",
       "    </tr>\n",
       "    <tr>\n",
       "      <th>401</th>\n",
       "      <td>2023-11-08</td>\n",
       "      <td>111.0</td>\n",
       "      <td>54.0</td>\n",
       "      <td>31.0</td>\n",
       "      <td>11.0</td>\n",
       "      <td>8.0</td>\n",
       "      <td>6.0</td>\n",
       "    </tr>\n",
       "    <tr>\n",
       "      <th>402</th>\n",
       "      <td>2023-11-09</td>\n",
       "      <td>59.0</td>\n",
       "      <td>18.0</td>\n",
       "      <td>29.0</td>\n",
       "      <td>9.0</td>\n",
       "      <td>4.0</td>\n",
       "      <td>4.0</td>\n",
       "    </tr>\n",
       "  </tbody>\n",
       "</table>\n",
       "</div>"
      ],
      "text/plain": [
       "          date   PM25  PM10    O3   NO2   SO2    CO\n",
       "398 2023-11-05  138.0  69.0  27.0  10.0   7.0   7.0\n",
       "399 2023-11-06   97.0  42.0  26.0  12.0   8.0   7.0\n",
       "400 2023-11-07   59.0  67.0  26.0  23.0  15.0  10.0\n",
       "401 2023-11-08  111.0  54.0  31.0  11.0   8.0   6.0\n",
       "402 2023-11-09   59.0  18.0  29.0   9.0   4.0   4.0"
      ]
     },
     "execution_count": 164,
     "metadata": {},
     "output_type": "execute_result"
    }
   ],
   "source": [
    "unscaled_training_data.tail()"
   ]
  },
  {
   "cell_type": "code",
   "execution_count": 165,
   "metadata": {},
   "outputs": [
    {
     "data": {
      "application/vnd.microsoft.datawrangler.viewer.v0+json": {
       "columns": [
        {
         "name": "index",
         "rawType": "int64",
         "type": "integer"
        },
        {
         "name": "date",
         "rawType": "datetime64[ns]",
         "type": "datetime"
        },
        {
         "name": "PM25",
         "rawType": "int64",
         "type": "integer"
        },
        {
         "name": "PM10",
         "rawType": "float64",
         "type": "float"
        },
        {
         "name": "O3",
         "rawType": "float64",
         "type": "float"
        },
        {
         "name": "NO2",
         "rawType": "float64",
         "type": "float"
        },
        {
         "name": "SO2",
         "rawType": "float64",
         "type": "float"
        },
        {
         "name": "CO",
         "rawType": "float64",
         "type": "float"
        }
       ],
       "ref": "0f1f986e-7d87-4c30-a9f2-7977ddf75edc",
       "rows": [
        [
         "4",
         "2025-07-06 00:00:00",
         "29",
         "23.0",
         null,
         "13.0",
         "3.0",
         "4.0"
        ],
        [
         "5",
         "2025-07-07 00:00:00",
         "44",
         "20.0",
         null,
         "11.0",
         "3.0",
         "5.0"
        ],
        [
         "6",
         "2025-07-08 00:00:00",
         "51",
         "26.0",
         null,
         "10.0",
         "5.0",
         "7.0"
        ],
        [
         "7",
         "2025-07-09 00:00:00",
         "73",
         "23.0",
         null,
         "6.0",
         "4.0",
         "7.0"
        ],
        [
         "8",
         "2025-07-10 00:00:00",
         "71",
         null,
         null,
         null,
         null,
         null
        ]
       ],
       "shape": {
        "columns": 7,
        "rows": 5
       }
      },
      "text/html": [
       "<div>\n",
       "<style scoped>\n",
       "    .dataframe tbody tr th:only-of-type {\n",
       "        vertical-align: middle;\n",
       "    }\n",
       "\n",
       "    .dataframe tbody tr th {\n",
       "        vertical-align: top;\n",
       "    }\n",
       "\n",
       "    .dataframe thead th {\n",
       "        text-align: right;\n",
       "    }\n",
       "</style>\n",
       "<table border=\"1\" class=\"dataframe\">\n",
       "  <thead>\n",
       "    <tr style=\"text-align: right;\">\n",
       "      <th></th>\n",
       "      <th>date</th>\n",
       "      <th>PM25</th>\n",
       "      <th>PM10</th>\n",
       "      <th>O3</th>\n",
       "      <th>NO2</th>\n",
       "      <th>SO2</th>\n",
       "      <th>CO</th>\n",
       "    </tr>\n",
       "  </thead>\n",
       "  <tbody>\n",
       "    <tr>\n",
       "      <th>4</th>\n",
       "      <td>2025-07-06</td>\n",
       "      <td>29</td>\n",
       "      <td>23.0</td>\n",
       "      <td>NaN</td>\n",
       "      <td>13.0</td>\n",
       "      <td>3.0</td>\n",
       "      <td>4.0</td>\n",
       "    </tr>\n",
       "    <tr>\n",
       "      <th>5</th>\n",
       "      <td>2025-07-07</td>\n",
       "      <td>44</td>\n",
       "      <td>20.0</td>\n",
       "      <td>NaN</td>\n",
       "      <td>11.0</td>\n",
       "      <td>3.0</td>\n",
       "      <td>5.0</td>\n",
       "    </tr>\n",
       "    <tr>\n",
       "      <th>6</th>\n",
       "      <td>2025-07-08</td>\n",
       "      <td>51</td>\n",
       "      <td>26.0</td>\n",
       "      <td>NaN</td>\n",
       "      <td>10.0</td>\n",
       "      <td>5.0</td>\n",
       "      <td>7.0</td>\n",
       "    </tr>\n",
       "    <tr>\n",
       "      <th>7</th>\n",
       "      <td>2025-07-09</td>\n",
       "      <td>73</td>\n",
       "      <td>23.0</td>\n",
       "      <td>NaN</td>\n",
       "      <td>6.0</td>\n",
       "      <td>4.0</td>\n",
       "      <td>7.0</td>\n",
       "    </tr>\n",
       "    <tr>\n",
       "      <th>8</th>\n",
       "      <td>2025-07-10</td>\n",
       "      <td>71</td>\n",
       "      <td>NaN</td>\n",
       "      <td>NaN</td>\n",
       "      <td>NaN</td>\n",
       "      <td>NaN</td>\n",
       "      <td>NaN</td>\n",
       "    </tr>\n",
       "  </tbody>\n",
       "</table>\n",
       "</div>"
      ],
      "text/plain": [
       "        date  PM25  PM10  O3   NO2  SO2   CO\n",
       "4 2025-07-06    29  23.0 NaN  13.0  3.0  4.0\n",
       "5 2025-07-07    44  20.0 NaN  11.0  3.0  5.0\n",
       "6 2025-07-08    51  26.0 NaN  10.0  5.0  7.0\n",
       "7 2025-07-09    73  23.0 NaN   6.0  4.0  7.0\n",
       "8 2025-07-10    71   NaN NaN   NaN  NaN  NaN"
      ]
     },
     "execution_count": 165,
     "metadata": {},
     "output_type": "execute_result"
    }
   ],
   "source": [
    "unscaled_test_data.tail()"
   ]
  },
  {
   "cell_type": "code",
   "execution_count": 166,
   "metadata": {},
   "outputs": [],
   "source": [
    "all_data = pd.concat((unscaled_training_data['PM25'], unscaled_test_data['PM25']), axis = 0)\n",
    "x_test_data = all_data[len(all_data) - len(test_data) - 700:].values\n",
    "x_test_data = np.reshape(x_test_data, (-1, 1))"
   ]
  },
  {
   "cell_type": "code",
   "execution_count": 167,
   "metadata": {},
   "outputs": [],
   "source": [
    "x_test_data = scaler.transform(x_test_data)\n",
    "final_x_test_data = []\n",
    "for i in range(700, len(x_test_data)):\n",
    "    final_x_test_data.append(x_test_data[i-700:i, 0])\n",
    "final_x_test_data = np.array(final_x_test_data)\n",
    "final_x_test_data = np.reshape(final_x_test_data, (final_x_test_data.shape[0],\n",
    "                                                   final_x_test_data.shape[1],\n",
    "                                                   1))"
   ]
  },
  {
   "cell_type": "code",
   "execution_count": 168,
   "metadata": {},
   "outputs": [
    {
     "name": "stdout",
     "output_type": "stream",
     "text": [
      "\u001b[1m6/6\u001b[0m \u001b[32m━━━━━━━━━━━━━━━━━━━━\u001b[0m\u001b[37m\u001b[0m \u001b[1m2s\u001b[0m 211ms/step\n"
     ]
    },
    {
     "data": {
      "text/plain": [
       "[<matplotlib.lines.Line2D at 0x365fb5130>]"
      ]
     },
     "execution_count": 168,
     "metadata": {},
     "output_type": "execute_result"
    },
    {
     "data": {
      "image/png": "[encoded data removed]",
      "text/plain": [
       "<Figure size 640x480 with 1 Axes>"
      ]
     },
     "metadata": {},
     "output_type": "display_data"
    }
   ],
   "source": [
    "predictions = rnn.predict(final_x_test_data)\n",
    "plt.clf()\n",
    "plt.plot(predictions)"
   ]
  },
  {
   "cell_type": "code",
   "execution_count": 169,
   "metadata": {},
   "outputs": [
    {
     "data": {
      "text/plain": [
       "[<matplotlib.lines.Line2D at 0x37a81efc0>]"
      ]
     },
     "execution_count": 169,
     "metadata": {},
     "output_type": "execute_result"
    },
    {
     "data": {
      "image/png": "[encoded data removed]",
      "text/plain": [
       "<Figure size 640x480 with 1 Axes>"
      ]
     },
     "metadata": {},
     "output_type": "display_data"
    }
   ],
   "source": [
    "unscaled_predictions = scaler.inverse_transform(predictions)\n",
    "plt.clf() #This clears the first prediction plot from our canvas\n",
    "plt.plot(unscaled_predictions)"
   ]
  },
  {
   "cell_type": "code",
   "execution_count": 176,
   "metadata": {},
   "outputs": [
    {
     "data": {
      "text/plain": [
       "Text(0.5, 1.0, 'baotou pm2.5 level')"
      ]
     },
     "execution_count": 176,
     "metadata": {},
     "output_type": "execute_result"
    },
    {
     "data": {
      "image/png": "[encoded data removed]",
      "text/plain": [
       "<Figure size 640x480 with 1 Axes>"
      ]
     },
     "metadata": {},
     "output_type": "display_data"
    }
   ],
   "source": [
    "plt.plot(unscaled_predictions, color = '#135485', label = \"Predictions\", alpha=0.5)\n",
    "plt.plot(test_data, color = 'black', label = \"Real Data\", alpha=0.5)\n",
    "plt.title('baotou pm2.5 level')"
   ]
  },
  {
   "cell_type": "code",
   "execution_count": 171,
   "metadata": {},
   "outputs": [],
   "source": [
    "# ---------"
   ]
  },
  {
   "cell_type": "code",
   "execution_count": 172,
   "metadata": {},
   "outputs": [],
   "source": [
    "combined_data = pd.concat((unscaled_training_data['PM25'], unscaled_test_data['PM25']), axis=0)\n",
    "last_700_values = combined_data[-700:].values.reshape(-1,1)\n",
    "last_700_scaled = scaler.transform(last_700_values)"
   ]
  },
  {
   "cell_type": "code",
   "execution_count": 173,
   "metadata": {},
   "outputs": [],
   "source": [
    "future_predictions = []\n",
    "\n",
    "current_input = last_700_scaled.copy()"
   ]
  },
  {
   "cell_type": "code",
   "execution_count": 174,
   "metadata": {},
   "outputs": [],
   "source": [
    "for _ in range(365):\n",
    "    input_seq = current_input.reshape(1,700,1)\n",
    "    predicted_scaled = rnn.predict(input_seq,verbose=0)[0,0]\n",
    "    future_predictions.append(predicted_scaled)\n",
    "    current_input = np.append(current_input, [[predicted_scaled]], axis=0)\n",
    "    current_input = current_input[-700:]\n",
    "\n",
    "future_predictions_unscaled = scaler.inverse_transform(np.array(future_predictions).reshape(-1,1))"
   ]
  },
  {
   "cell_type": "code",
   "execution_count": 175,
   "metadata": {},
   "outputs": [
    {
     "data": {
      "image/png": "[encoded data removed]",
      "text/plain": [
       "<Figure size 1200x500 with 1 Axes>"
      ]
     },
     "metadata": {},
     "output_type": "display_data"
    }
   ],
   "source": [
    "plt.figure(figsize=(12,5))\n",
    "plt.plot(combined_data.values, label='Historical PM2.5', color='gray')\n",
    "plt.plot(range(len(combined_data), len(combined_data)+365),\n",
    "         future_predictions_unscaled.flatten(),\n",
    "         label='365-Day Forecast', color='orange')\n",
    "plt.title(\"PM2.5 Forecast: 1 Year Ahead\")\n",
    "plt.xlabel(\"Days\")\n",
    "plt.ylabel(\"PM2.5 Level\")\n",
    "plt.legend()\n",
    "plt.grid(True)\n",
    "plt.tight_layout()\n",
    "plt.show()"
   ]
  }
 ],
 "metadata": {
  "kernelspec": {
   "display_name": "base",
   "language": "python",
   "name": "python3"
  },
  "language_info": {
   "codemirror_mode": {
    "name": "ipython",
    "version": 3
   },
   "file_extension": ".py",
   "mimetype": "text/x-python",
   "name": "python",
   "nbconvert_exporter": "python",
   "pygments_lexer": "ipython3",
   "version": "3.12.11"
  }
 },
 "nbformat": 4,
 "nbformat_minor": 2
}
