{
 "cells": [
  {
   "cell_type": "code",
   "execution_count": 1,
   "metadata": {},
   "outputs": [],
   "source": [
    "import pandas as pd\n",
    "import numpy as np\n",
    "import matplotlib.pyplot as plt\n",
    "from statsmodels.tsa.stattools import adfuller\n",
    "from statsmodels.graphics.tsaplots import plot_ccf # Cross-correlation function"
   ]
  },
  {
   "cell_type": "code",
   "execution_count": 2,
   "metadata": {},
   "outputs": [
    {
     "name": "stderr",
     "output_type": "stream",
     "text": [
      "/var/folders/n0/qhjx1vrd1c1b846x7pqgmbg40000gn/T/ipykernel_57481/4030353903.py:19: UserWarning: Could not infer format, so each element will be parsed individually, falling back to `dateutil`. To ensure parsing is consistent and as-expected, please specify a format.\n",
      "  df['date'] = pd.to_datetime(df['date'], errors='coerce')\n"
     ]
    },
    {
     "data": {
      "application/vnd.microsoft.datawrangler.viewer.v0+json": {
       "columns": [
        {
         "name": "date",
         "rawType": "datetime64[ns]",
         "type": "datetime"
        },
        {
         "name": "PM25",
         "rawType": "float64",
         "type": "float"
        },
        {
         "name": "PM10",
         "rawType": "float64",
         "type": "float"
        },
        {
         "name": "O3",
         "rawType": "float64",
         "type": "float"
        },
        {
         "name": "NO2",
         "rawType": "float64",
         "type": "float"
        },
        {
         "name": "SO2",
         "rawType": "float64",
         "type": "float"
        },
        {
         "name": "CO",
         "rawType": "float64",
         "type": "float"
        }
       ],
       "ref": "a618a798-6974-43d7-ae76-f974e25c2e76",
       "rows": [
        [
         "2014-01-01 00:00:00",
         null,
         "121.0",
         "29.0",
         "57.0",
         "30.0",
         "14.0"
        ],
        [
         "2014-01-02 00:00:00",
         "188.0",
         "92.0",
         "39.0",
         "54.0",
         "17.0",
         "13.0"
        ],
        [
         "2014-01-03 00:00:00",
         "170.0",
         "105.0",
         "21.0",
         "55.0",
         "32.0",
         "12.0"
        ],
        [
         "2014-01-04 00:00:00",
         "191.0",
         "94.0",
         "18.0",
         "36.0",
         "19.0",
         "9.0"
        ],
        [
         "2014-01-05 00:00:00",
         "176.0",
         "53.0",
         "13.0",
         "37.0",
         "13.0",
         "7.0"
        ],
        [
         "2014-01-06 00:00:00",
         "116.0",
         "36.0",
         "28.0",
         "28.0",
         "10.0",
         "7.0"
        ],
        [
         "2014-01-07 00:00:00",
         "83.0",
         "48.0",
         "28.0",
         "34.0",
         "7.0",
         "7.0"
        ],
        [
         "2014-01-08 00:00:00",
         "120.0",
         "39.0",
         "27.0",
         "22.0",
         "10.0",
         "6.0"
        ],
        [
         "2014-01-09 00:00:00",
         "106.0",
         "52.0",
         "26.0",
         "16.0",
         "10.0",
         "5.0"
        ],
        [
         "2014-01-10 00:00:00",
         "97.0",
         "62.0",
         "28.0",
         "25.0",
         "14.0",
         "6.0"
        ],
        [
         "2014-01-11 00:00:00",
         "120.0",
         "51.0",
         "25.0",
         "23.0",
         "9.0",
         "6.0"
        ],
        [
         "2014-01-12 00:00:00",
         "127.0",
         "66.0",
         "30.0",
         "26.0",
         "13.0",
         "6.0"
        ],
        [
         "2014-01-13 00:00:00",
         "152.0",
         "46.0",
         "26.0",
         "18.0",
         "13.0",
         "5.0"
        ],
        [
         "2014-01-14 00:00:00",
         "104.0",
         "25.0",
         "27.0",
         "19.0",
         "11.0",
         "7.0"
        ],
        [
         "2014-01-15 00:00:00",
         "76.0",
         "34.0",
         "29.0",
         "19.0",
         "9.0",
         "3.0"
        ],
        [
         "2014-01-16 00:00:00",
         "94.0",
         "69.0",
         "29.0",
         "35.0",
         "13.0",
         "10.0"
        ],
        [
         "2014-01-17 00:00:00",
         "156.0",
         "79.0",
         "15.0",
         "46.0",
         "20.0",
         "13.0"
        ],
        [
         "2014-01-18 00:00:00",
         "169.0",
         "112.0",
         "29.0",
         "28.0",
         "22.0",
         "10.0"
        ],
        [
         "2014-01-19 00:00:00",
         "207.0",
         "89.0",
         "34.0",
         "35.0",
         "19.0",
         "10.0"
        ],
        [
         "2014-01-20 00:00:00",
         "179.0",
         "149.0",
         "17.0",
         "40.0",
         "33.0",
         "14.0"
        ],
        [
         "2014-01-21 00:00:00",
         "226.0",
         "73.0",
         "26.0",
         "20.0",
         "17.0",
         "5.0"
        ],
        [
         "2014-01-22 00:00:00",
         "122.0",
         "57.0",
         "17.0",
         "30.0",
         "17.0",
         "7.0"
        ],
        [
         "2014-01-23 00:00:00",
         "132.0",
         "41.0",
         "29.0",
         "24.0",
         "9.0",
         "4.0"
        ],
        [
         "2014-01-24 00:00:00",
         "114.0",
         "35.0",
         "28.0",
         "22.0",
         "10.0",
         "3.0"
        ],
        [
         "2014-01-25 00:00:00",
         "95.0",
         "79.0",
         "34.0",
         "26.0",
         "13.0",
         "7.0"
        ],
        [
         "2014-01-26 00:00:00",
         "154.0",
         "45.0",
         "30.0",
         "12.0",
         "8.0",
         "4.0"
        ],
        [
         "2014-01-27 00:00:00",
         "89.0",
         "26.0",
         "29.0",
         "21.0",
         "6.0",
         "3.0"
        ],
        [
         "2014-01-28 00:00:00",
         "69.0",
         "52.0",
         "30.0",
         "22.0",
         "14.0",
         "7.0"
        ],
        [
         "2014-01-29 00:00:00",
         "127.0",
         "57.0",
         "26.0",
         "24.0",
         "7.0",
         "5.0"
        ],
        [
         "2014-01-30 00:00:00",
         "141.0",
         "127.0",
         "31.0",
         "27.0",
         "13.0",
         "13.0"
        ],
        [
         "2014-01-31 00:00:00",
         "230.0",
         "107.0",
         "47.0",
         "12.0",
         "9.0",
         "8.0"
        ],
        [
         "2014-02-01 00:00:00",
         "201.0",
         "58.0",
         "37.0",
         "20.0",
         "7.0",
         "6.0"
        ],
        [
         "2014-02-02 00:00:00",
         "140.0",
         "132.0",
         "30.0",
         "21.0",
         "6.0",
         "16.0"
        ],
        [
         "2014-02-03 00:00:00",
         "236.0",
         "59.0",
         "31.0",
         "9.0",
         "5.0",
         "5.0"
        ],
        [
         "2014-02-04 00:00:00",
         "124.0",
         "38.0",
         "34.0",
         "5.0",
         "7.0",
         "3.0"
        ],
        [
         "2014-02-05 00:00:00",
         "75.0",
         "21.0",
         "30.0",
         "9.0",
         "6.0",
         "5.0"
        ],
        [
         "2014-02-06 00:00:00",
         "64.0",
         "10.0",
         "26.0",
         "11.0",
         "4.0",
         "4.0"
        ],
        [
         "2014-02-07 00:00:00",
         "55.0",
         "16.0",
         "28.0",
         "12.0",
         "6.0",
         "5.0"
        ],
        [
         "2014-02-08 00:00:00",
         "61.0",
         "41.0",
         "29.0",
         "12.0",
         "8.0",
         "6.0"
        ],
        [
         "2014-02-09 00:00:00",
         "121.0",
         "49.0",
         "30.0",
         "11.0",
         "8.0",
         "5.0"
        ],
        [
         "2014-02-10 00:00:00",
         "126.0",
         "31.0",
         "27.0",
         "12.0",
         "5.0",
         "5.0"
        ],
        [
         "2014-02-11 00:00:00",
         "95.0",
         "37.0",
         "28.0",
         "15.0",
         "9.0",
         "4.0"
        ],
        [
         "2014-02-12 00:00:00",
         "111.0",
         "30.0",
         "28.0",
         "19.0",
         "7.0",
         "5.0"
        ],
        [
         "2014-02-13 00:00:00",
         "92.0",
         "29.0",
         "30.0",
         "11.0",
         "6.0",
         "4.0"
        ],
        [
         "2014-02-14 00:00:00",
         "84.0",
         "50.0",
         "34.0",
         "17.0",
         "8.0",
         "5.0"
        ],
        [
         "2014-02-15 00:00:00",
         "112.0",
         "30.0",
         "32.0",
         "16.0",
         "8.0",
         "5.0"
        ],
        [
         "2014-02-16 00:00:00",
         "84.0",
         "23.0",
         "27.0",
         "21.0",
         "3.0",
         "3.0"
        ],
        [
         "2014-02-17 00:00:00",
         "76.0",
         "27.0",
         "31.0",
         "23.0",
         "6.0",
         "5.0"
        ],
        [
         "2014-02-18 00:00:00",
         "95.0",
         "24.0",
         "33.0",
         "13.0",
         "3.0",
         "4.0"
        ],
        [
         "2014-02-19 00:00:00",
         "80.0",
         "51.0",
         "22.0",
         "26.0",
         "14.0",
         "9.0"
        ]
       ],
       "shape": {
        "columns": 6,
        "rows": 4131
       }
      },
      "text/html": [
       "<div>\n",
       "<style scoped>\n",
       "    .dataframe tbody tr th:only-of-type {\n",
       "        vertical-align: middle;\n",
       "    }\n",
       "\n",
       "    .dataframe tbody tr th {\n",
       "        vertical-align: top;\n",
       "    }\n",
       "\n",
       "    .dataframe thead th {\n",
       "        text-align: right;\n",
       "    }\n",
       "</style>\n",
       "<table border=\"1\" class=\"dataframe\">\n",
       "  <thead>\n",
       "    <tr style=\"text-align: right;\">\n",
       "      <th></th>\n",
       "      <th>PM25</th>\n",
       "      <th>PM10</th>\n",
       "      <th>O3</th>\n",
       "      <th>NO2</th>\n",
       "      <th>SO2</th>\n",
       "      <th>CO</th>\n",
       "    </tr>\n",
       "    <tr>\n",
       "      <th>date</th>\n",
       "      <th></th>\n",
       "      <th></th>\n",
       "      <th></th>\n",
       "      <th></th>\n",
       "      <th></th>\n",
       "      <th></th>\n",
       "    </tr>\n",
       "  </thead>\n",
       "  <tbody>\n",
       "    <tr>\n",
       "      <th>2014-01-01</th>\n",
       "      <td>NaN</td>\n",
       "      <td>121.0</td>\n",
       "      <td>29.0</td>\n",
       "      <td>57.0</td>\n",
       "      <td>30.0</td>\n",
       "      <td>14.0</td>\n",
       "    </tr>\n",
       "    <tr>\n",
       "      <th>2014-01-02</th>\n",
       "      <td>188.0</td>\n",
       "      <td>92.0</td>\n",
       "      <td>39.0</td>\n",
       "      <td>54.0</td>\n",
       "      <td>17.0</td>\n",
       "      <td>13.0</td>\n",
       "    </tr>\n",
       "    <tr>\n",
       "      <th>2014-01-03</th>\n",
       "      <td>170.0</td>\n",
       "      <td>105.0</td>\n",
       "      <td>21.0</td>\n",
       "      <td>55.0</td>\n",
       "      <td>32.0</td>\n",
       "      <td>12.0</td>\n",
       "    </tr>\n",
       "    <tr>\n",
       "      <th>2014-01-04</th>\n",
       "      <td>191.0</td>\n",
       "      <td>94.0</td>\n",
       "      <td>18.0</td>\n",
       "      <td>36.0</td>\n",
       "      <td>19.0</td>\n",
       "      <td>9.0</td>\n",
       "    </tr>\n",
       "    <tr>\n",
       "      <th>2014-01-05</th>\n",
       "      <td>176.0</td>\n",
       "      <td>53.0</td>\n",
       "      <td>13.0</td>\n",
       "      <td>37.0</td>\n",
       "      <td>13.0</td>\n",
       "      <td>7.0</td>\n",
       "    </tr>\n",
       "    <tr>\n",
       "      <th>...</th>\n",
       "      <td>...</td>\n",
       "      <td>...</td>\n",
       "      <td>...</td>\n",
       "      <td>...</td>\n",
       "      <td>...</td>\n",
       "      <td>...</td>\n",
       "    </tr>\n",
       "    <tr>\n",
       "      <th>2025-07-07</th>\n",
       "      <td>51.0</td>\n",
       "      <td>15.0</td>\n",
       "      <td>25.0</td>\n",
       "      <td>4.0</td>\n",
       "      <td>3.0</td>\n",
       "      <td>4.0</td>\n",
       "    </tr>\n",
       "    <tr>\n",
       "      <th>2025-07-08</th>\n",
       "      <td>27.0</td>\n",
       "      <td>18.0</td>\n",
       "      <td>20.0</td>\n",
       "      <td>4.0</td>\n",
       "      <td>3.0</td>\n",
       "      <td>4.0</td>\n",
       "    </tr>\n",
       "    <tr>\n",
       "      <th>2025-07-09</th>\n",
       "      <td>26.0</td>\n",
       "      <td>21.0</td>\n",
       "      <td>23.0</td>\n",
       "      <td>4.0</td>\n",
       "      <td>3.0</td>\n",
       "      <td>4.0</td>\n",
       "    </tr>\n",
       "    <tr>\n",
       "      <th>2025-07-10</th>\n",
       "      <td>38.0</td>\n",
       "      <td>40.0</td>\n",
       "      <td>18.0</td>\n",
       "      <td>5.0</td>\n",
       "      <td>4.0</td>\n",
       "      <td>4.0</td>\n",
       "    </tr>\n",
       "    <tr>\n",
       "      <th>2025-07-11</th>\n",
       "      <td>83.0</td>\n",
       "      <td>NaN</td>\n",
       "      <td>NaN</td>\n",
       "      <td>NaN</td>\n",
       "      <td>NaN</td>\n",
       "      <td>NaN</td>\n",
       "    </tr>\n",
       "  </tbody>\n",
       "</table>\n",
       "<p>4131 rows × 6 columns</p>\n",
       "</div>"
      ],
      "text/plain": [
       "             PM25   PM10    O3   NO2   SO2    CO\n",
       "date                                            \n",
       "2014-01-01    NaN  121.0  29.0  57.0  30.0  14.0\n",
       "2014-01-02  188.0   92.0  39.0  54.0  17.0  13.0\n",
       "2014-01-03  170.0  105.0  21.0  55.0  32.0  12.0\n",
       "2014-01-04  191.0   94.0  18.0  36.0  19.0   9.0\n",
       "2014-01-05  176.0   53.0  13.0  37.0  13.0   7.0\n",
       "...           ...    ...   ...   ...   ...   ...\n",
       "2025-07-07   51.0   15.0  25.0   4.0   3.0   4.0\n",
       "2025-07-08   27.0   18.0  20.0   4.0   3.0   4.0\n",
       "2025-07-09   26.0   21.0  23.0   4.0   3.0   4.0\n",
       "2025-07-10   38.0   40.0  18.0   5.0   4.0   4.0\n",
       "2025-07-11   83.0    NaN   NaN   NaN   NaN   NaN\n",
       "\n",
       "[4131 rows x 6 columns]"
      ]
     },
     "execution_count": 2,
     "metadata": {},
     "output_type": "execute_result"
    }
   ],
   "source": [
    "# Manually parse PMI dates (e.g., 'Jun-25' => 2025-06-01)\n",
    "def parse_excel_months(date_str):\n",
    "    try:\n",
    "        return pd.to_datetime(date_str, format=\"%b-%y\")  # 'Jun-25' → 2025-06-01\n",
    "    except:\n",
    "        return pd.NaT\n",
    "\n",
    "# Load PMI data and fix dates\n",
    "pmi_df = pd.read_csv(\"data/shanghai-consumer-price-index.csv\")\n",
    "pmi_df.columns = ['date', 'cpi']\n",
    "pmi_df['date'] = pmi_df['date'].apply(parse_excel_months)\n",
    "pmi_df = pmi_df.dropna(subset=['date'])\n",
    "pmi_df = pmi_df.sort_values('date')\n",
    "\n",
    "# Clean pollution data\n",
    "def read_and_clean(filepath):\n",
    "    df = pd.read_csv(filepath)\n",
    "    df.columns = ['date','PM25','PM10','O3','NO2','SO2','CO']\n",
    "    df['date'] = pd.to_datetime(df['date'], errors='coerce')\n",
    "    df = df.dropna(subset=['date'])\n",
    "\n",
    "    for col in df.columns:\n",
    "        if col != \"date\":\n",
    "            df[col] = pd.to_numeric(df[col], errors='coerce')\n",
    "    \n",
    "    return df.sort_values('date')\n",
    "\n",
    "pollution_df = read_and_clean('data/shanghai.csv')\n",
    "pollution_df.set_index('date', inplace=True)\n",
    "\n",
    "pollution_df"
   ]
  },
  {
   "cell_type": "code",
   "execution_count": 3,
   "metadata": {},
   "outputs": [],
   "source": [
    "pollutant='NO2'"
   ]
  },
  {
   "cell_type": "code",
   "execution_count": 4,
   "metadata": {},
   "outputs": [],
   "source": [
    "# Set PMI index to month-end\n",
    "pmi_df['date'] = pmi_df['date'] + pd.offsets.MonthEnd(0)\n",
    "pmi_df.set_index('date', inplace=True)\n"
   ]
  },
  {
   "cell_type": "code",
   "execution_count": 5,
   "metadata": {},
   "outputs": [
    {
     "name": "stderr",
     "output_type": "stream",
     "text": [
      "/var/folders/n0/qhjx1vrd1c1b846x7pqgmbg40000gn/T/ipykernel_57481/3018550817.py:4: UserWarning: Could not infer format, so each element will be parsed individually, falling back to `dateutil`. To ensure parsing is consistent and as-expected, please specify a format.\n",
      "  data.date = pd.to_datetime(data.date)\n"
     ]
    }
   ],
   "source": [
    "def read_and_clean(filepath):\n",
    "    df = pd.read_csv(filepath)\n",
    "    data = df.copy()\n",
    "    data.date = pd.to_datetime(data.date)\n",
    "    data = data.sort_values(by='date', ascending=False)\n",
    "\n",
    "    data.columns = ['date','PM25','PM10','O3','NO2','SO2','CO']\n",
    "\n",
    "    for col in data.columns:\n",
    "        if col != \"date\":\n",
    "            data[col] = pd.to_numeric(data[col], errors='coerce')\n",
    "\n",
    "    return data\n",
    "\n",
    "shh_df = read_and_clean('data/shanghai.csv')\n",
    "cpi = pd.read_csv('data/shanghai-consumer-price-index.csv')\n",
    "cpi.columns = ['date','cpi']"
   ]
  },
  {
   "cell_type": "code",
   "execution_count": 6,
   "metadata": {},
   "outputs": [],
   "source": [
    "import pandas as pd\n",
    "import matplotlib.pyplot as plt\n",
    "\n",
    "def plotPollutantVsCPI(shh_df, cpi_df, pollutant):\n",
    "    # Step 1: Fix CPI date format (assumed format 'Jun-25')\n",
    "    cpi_df = cpi_df.copy()\n",
    "    cpi_df['date'] = pd.to_datetime(cpi_df['date'], format='%b-%y', errors='coerce')\n",
    "    cpi_df = cpi_df.dropna(subset=['date'])\n",
    "    cpi_df['year_month'] = cpi_df['date'].dt.to_period('M').dt.to_timestamp()\n",
    "    cpi_monthly = cpi_df.groupby('year_month')['cpi'].mean().reset_index()\n",
    "\n",
    "    # Step 2: Fix pollution dates\n",
    "    shh_df = shh_df.copy()\n",
    "    shh_df['date'] = pd.to_datetime(shh_df['date'], errors='coerce')\n",
    "    shh_df = shh_df.dropna(subset=['date'])\n",
    "    shh_df['year_month'] = shh_df['date'].dt.to_period('M').dt.to_timestamp()\n",
    "    shh_df[pollutant] = pd.to_numeric(shh_df[pollutant], errors='coerce')\n",
    "    pollutant_monthly = shh_df.groupby('year_month')[pollutant].mean().reset_index()\n",
    "\n",
    "    # Step 3: Merge on year_month\n",
    "    merged = pd.merge(pollutant_monthly, cpi_monthly, on='year_month', how='inner')\n",
    "\n",
    "    print(f\"Merged shape: {merged.shape}\")\n",
    "    print(f\"Merged date range: {merged['year_month'].min()} to {merged['year_month'].max()}\")\n",
    "    if merged.empty:\n",
    "        print(\"Still no overlapping dates. Double check formats.\")\n",
    "        return\n",
    "\n",
    "    # Step 4: Plot\n",
    "    fig, ax1 = plt.subplots(figsize=(16, 5))\n",
    "\n",
    "    ax1.set_title(f'Monthly Average {pollutant.upper()} in Shanghai vs CPI', fontsize=14)\n",
    "    ax1.set_xlabel('Month')\n",
    "    ax1.plot(merged['year_month'], merged[pollutant], color='tab:blue', label=pollutant)\n",
    "    ax1.set_ylabel(f'{pollutant} Concentration', color='tab:blue')\n",
    "    ax1.tick_params(axis='y', labelcolor='tab:blue')\n",
    "\n",
    "    ax2 = ax1.twinx()\n",
    "    ax2.plot(merged['year_month'], merged['cpi'], color='tab:red', label='CPI')\n",
    "    ax2.set_ylabel('CPI', color='tab:red')\n",
    "    ax2.tick_params(axis='y', labelcolor='tab:red')\n",
    "\n",
    "    fig.tight_layout()\n",
    "    plt.show()\n"
   ]
  },
  {
   "cell_type": "code",
   "execution_count": 7,
   "metadata": {},
   "outputs": [
    {
     "name": "stdout",
     "output_type": "stream",
     "text": [
      "Merged shape: (113, 3)\n",
      "Merged date range: 2016-01-01 00:00:00 to 2025-06-01 00:00:00\n"
     ]
    },
    {
     "data": {
      "image/png": "[encoded data removed]",
      "text/plain": [
       "<Figure size 1600x500 with 2 Axes>"
      ]
     },
     "metadata": {},
     "output_type": "display_data"
    }
   ],
   "source": [
    "plotPollutantVsCPI(shh_df, cpi, pollutant=pollutant)"
   ]
  },
  {
   "cell_type": "code",
   "execution_count": 8,
   "metadata": {},
   "outputs": [
    {
     "name": "stderr",
     "output_type": "stream",
     "text": [
      "/var/folders/n0/qhjx1vrd1c1b846x7pqgmbg40000gn/T/ipykernel_57481/311897133.py:2: FutureWarning: 'M' is deprecated and will be removed in a future version, please use 'ME' instead.\n",
      "  monthly_pollution = pollution_df.resample('M').mean()\n"
     ]
    }
   ],
   "source": [
    "# Resample pollution data from daily to monthly mean\n",
    "monthly_pollution = pollution_df.resample('M').mean()\n",
    "\n",
    "# Combine with monthly PMI data\n",
    "monthly_data = monthly_pollution.join(pmi_df, how='inner')"
   ]
  },
  {
   "cell_type": "code",
   "execution_count": 9,
   "metadata": {},
   "outputs": [
    {
     "data": {
      "application/vnd.microsoft.datawrangler.viewer.v0+json": {
       "columns": [
        {
         "name": "date",
         "rawType": "datetime64[ns]",
         "type": "datetime"
        },
        {
         "name": "PM25",
         "rawType": "float64",
         "type": "float"
        },
        {
         "name": "PM10",
         "rawType": "float64",
         "type": "float"
        },
        {
         "name": "O3",
         "rawType": "float64",
         "type": "float"
        },
        {
         "name": "NO2",
         "rawType": "float64",
         "type": "float"
        },
        {
         "name": "SO2",
         "rawType": "float64",
         "type": "float"
        },
        {
         "name": "CO",
         "rawType": "float64",
         "type": "float"
        }
       ],
       "ref": "4e707239-f4f8-4894-a7ae-a6bf35f2e1fe",
       "rows": [
        [
         "2014-01-31 00:00:00",
         "137.66666666666666",
         "68.41935483870968",
         "27.258064516129032",
         "28.806451612903224",
         "14.419354838709678",
         "7.612903225806452"
        ],
        [
         "2014-02-28 00:00:00",
         "118.78571428571429",
         "47.25",
         "31.285714285714285",
         "19.0",
         "7.892857142857143",
         "5.928571428571429"
        ],
        [
         "2014-03-31 00:00:00",
         "127.3225806451613",
         "61.58064516129032",
         "39.61290322580645",
         "27.193548387096776",
         "8.741935483870968",
         "5.548387096774194"
        ],
        [
         "2014-04-30 00:00:00",
         "124.86666666666666",
         "55.3",
         "44.5",
         "24.566666666666666",
         "5.666666666666667",
         "4.966666666666667"
        ],
        [
         "2014-05-31 00:00:00",
         "136.32258064516128",
         "73.2258064516129",
         "65.2258064516129",
         "22.451612903225808",
         "6.32258064516129",
         "5.67741935483871"
        ],
        [
         "2014-06-30 00:00:00",
         "109.33333333333333",
         "47.36666666666667",
         "49.8",
         "18.933333333333334",
         "3.1333333333333333",
         "5.733333333333333"
        ],
        [
         "2014-07-31 00:00:00",
         "96.06451612903226",
         "47.54838709677419",
         "46.064516129032256",
         "16.29032258064516",
         "3.064516129032258",
         "5.967741935483871"
        ],
        [
         "2014-08-31 00:00:00",
         "84.45161290322581",
         "41.03225806451613",
         "45.54838709677419",
         "17.258064516129032",
         "3.5806451612903225",
         "6.387096774193548"
        ],
        [
         "2014-09-30 00:00:00",
         "81.56666666666666",
         "41.4",
         "47.86666666666667",
         "15.266666666666667",
         "4.6",
         "5.933333333333334"
        ],
        [
         "2014-10-31 00:00:00",
         "99.25806451612904",
         "53.774193548387096",
         "48.03225806451613",
         "21.548387096774192",
         "5.290322580645161",
         "6.161290322580645"
        ],
        [
         "2014-11-30 00:00:00",
         "124.46666666666667",
         "57.166666666666664",
         "32.333333333333336",
         "26.966666666666665",
         "7.8",
         "6.166666666666667"
        ],
        [
         "2014-12-31 00:00:00",
         "141.79310344827587",
         "71.67857142857143",
         "17.607142857142858",
         "33.82142857142857",
         "17.464285714285715",
         "8.357142857142858"
        ],
        [
         "2015-01-31 00:00:00",
         "151.63333333333333",
         "71.0",
         "22.838709677419356",
         "33.483870967741936",
         "14.225806451612904",
         "8.935483870967742"
        ],
        [
         "2015-02-28 00:00:00",
         "136.35714285714286",
         "60.392857142857146",
         "32.392857142857146",
         "23.535714285714285",
         "9.964285714285714",
         "7.535714285714286"
        ],
        [
         "2015-03-31 00:00:00",
         "118.16129032258064",
         "54.38709677419355",
         "41.806451612903224",
         "22.193548387096776",
         "7.419354838709677",
         "7.354838709677419"
        ],
        [
         "2015-04-30 00:00:00",
         "127.26666666666667",
         "64.53333333333333",
         "52.5",
         "26.4",
         "7.4",
         "6.233333333333333"
        ],
        [
         "2015-05-31 00:00:00",
         "110.90322580645162",
         "52.774193548387096",
         "51.54838709677419",
         "19.387096774193548",
         "5.774193548387097",
         "5.612903225806452"
        ],
        [
         "2015-06-30 00:00:00",
         "99.93333333333334",
         "49.233333333333334",
         "56.166666666666664",
         "19.633333333333333",
         "4.733333333333333",
         "5.766666666666667"
        ],
        [
         "2015-07-31 00:00:00",
         "97.41935483870968",
         "45.096774193548384",
         "59.03225806451613",
         "15.193548387096774",
         "4.483870967741935",
         "5.225806451612903"
        ],
        [
         "2015-08-31 00:00:00",
         "95.90322580645162",
         "45.0",
         "60.193548387096776",
         "11.741935483870968",
         "4.774193548387097",
         "6.258064516129032"
        ],
        [
         "2015-09-30 00:00:00",
         "84.8",
         "40.3",
         "55.3",
         "11.266666666666667",
         "5.466666666666667",
         "6.033333333333333"
        ],
        [
         "2015-10-31 00:00:00",
         "107.7741935483871",
         "54.67741935483871",
         "52.67741935483871",
         "21.225806451612904",
         "7.419354838709677",
         "6.516129032258065"
        ],
        [
         "2015-11-30 00:00:00",
         "122.86666666666666",
         "55.3",
         "26.5",
         "25.033333333333335",
         "7.733333333333333",
         "8.966666666666667"
        ],
        [
         "2015-12-31 00:00:00",
         "153.48387096774192",
         "69.54838709677419",
         "19.70967741935484",
         "28.580645161290324",
         "11.451612903225806",
         "9.806451612903226"
        ],
        [
         "2016-01-31 00:00:00",
         "200.0",
         null,
         null,
         null,
         null,
         null
        ],
        [
         "2016-02-29 00:00:00",
         null,
         null,
         null,
         null,
         null,
         null
        ],
        [
         "2016-03-31 00:00:00",
         "131.1764705882353",
         "60.333333333333336",
         "44.05555555555556",
         "24.11111111111111",
         "8.11111111111111",
         "5.0"
        ],
        [
         "2016-04-30 00:00:00",
         "127.73333333333333",
         "60.8",
         "54.03333333333333",
         "25.433333333333334",
         "6.466666666666667",
         "5.633333333333334"
        ],
        [
         "2016-05-31 00:00:00",
         "120.12903225806451",
         "59.903225806451616",
         "56.74193548387097",
         "19.741935483870968",
         "5.419354838709677",
         "6.0"
        ],
        [
         "2016-06-30 00:00:00",
         "100.5",
         "44.96666666666667",
         "51.0",
         "18.2",
         "4.6",
         "5.333333333333333"
        ],
        [
         "2016-07-31 00:00:00",
         "96.58064516129032",
         "49.354838709677416",
         "65.45161290322581",
         "16.322580645161292",
         "3.5161290322580645",
         "5.741935483870968"
        ],
        [
         "2016-08-31 00:00:00",
         "64.41935483870968",
         "29.903225806451612",
         "43.38709677419355",
         "10.35483870967742",
         "4.032258064516129",
         "5.161290322580645"
        ],
        [
         "2016-09-30 00:00:00",
         "84.83333333333333",
         "39.5",
         "48.0",
         "16.833333333333332",
         "4.766666666666667",
         "5.6"
        ],
        [
         "2016-10-31 00:00:00",
         "67.70967741935483",
         "33.516129032258064",
         "35.67741935483871",
         "15.741935483870968",
         "5.064516129032258",
         "4.516129032258065"
        ],
        [
         "2016-11-30 00:00:00",
         "115.53333333333333",
         "45.733333333333334",
         "28.3",
         "28.533333333333335",
         "7.6",
         "6.533333333333333"
        ],
        [
         "2016-12-31 00:00:00",
         "130.83870967741936",
         "56.58064516129032",
         "25.516129032258064",
         "31.483870967741936",
         "8.290322580645162",
         "8.67741935483871"
        ],
        [
         "2017-01-31 00:00:00",
         "123.2258064516129",
         "47.064516129032256",
         "29.225806451612904",
         "22.096774193548388",
         "6.967741935483871",
         "7.129032258064516"
        ],
        [
         "2017-02-28 00:00:00",
         "123.57142857142857",
         "49.857142857142854",
         "37.214285714285715",
         "23.142857142857142",
         "6.428571428571429",
         "6.428571428571429"
        ],
        [
         "2017-03-31 00:00:00",
         "126.06451612903226",
         "49.064516129032256",
         "43.225806451612904",
         "24.06451612903226",
         "6.225806451612903",
         "5.580645161290323"
        ],
        [
         "2017-04-30 00:00:00",
         "123.46666666666667",
         "58.166666666666664",
         "57.13333333333333",
         "26.166666666666668",
         "5.5",
         "6.2"
        ],
        [
         "2017-05-31 00:00:00",
         "92.87096774193549",
         "50.70967741935484",
         "59.41935483870968",
         "18.032258064516128",
         "4.0",
         "5.0"
        ],
        [
         "2017-06-30 00:00:00",
         "87.46666666666667",
         "41.8",
         "56.0",
         "17.066666666666666",
         "3.1333333333333333",
         "5.266666666666667"
        ],
        [
         "2017-07-31 00:00:00",
         "85.7741935483871",
         "46.0",
         "81.2258064516129",
         "15.419354838709678",
         "3.466666666666667",
         "5.225806451612903"
        ],
        [
         "2017-08-31 00:00:00",
         "78.64516129032258",
         "40.935483870967744",
         "67.19354838709677",
         "13.387096774193548",
         "3.161290322580645",
         "5.935483870967742"
        ],
        [
         "2017-09-30 00:00:00",
         "73.92307692307692",
         "36.03846153846154",
         "50.03846153846154",
         "16.153846153846153",
         "3.769230769230769",
         "6.038461538461538"
        ],
        [
         "2017-10-31 00:00:00",
         "76.64516129032258",
         "35.96774193548387",
         "41.32258064516129",
         "14.161290322580646",
         "3.838709677419355",
         "5.548387096774194"
        ],
        [
         "2017-11-30 00:00:00",
         "104.83333333333333",
         "51.266666666666666",
         "31.366666666666667",
         "27.033333333333335",
         "5.433333333333334",
         "6.266666666666667"
        ],
        [
         "2017-12-31 00:00:00",
         "148.7741935483871",
         "59.70967741935484",
         "25.129032258064516",
         "30.322580645161292",
         "5.870967741935484",
         "8.0"
        ],
        [
         "2018-01-31 00:00:00",
         "133.51612903225808",
         "50.645161290322584",
         "25.258064516129032",
         "25.548387096774192",
         "5.612903225806452",
         "7.774193548387097"
        ],
        [
         "2018-02-28 00:00:00",
         "121.57142857142857",
         "49.464285714285715",
         "36.32142857142857",
         "20.607142857142858",
         "5.285714285714286",
         "6.142857142857143"
        ]
       ],
       "shape": {
        "columns": 6,
        "rows": 139
       }
      },
      "text/html": [
       "<div>\n",
       "<style scoped>\n",
       "    .dataframe tbody tr th:only-of-type {\n",
       "        vertical-align: middle;\n",
       "    }\n",
       "\n",
       "    .dataframe tbody tr th {\n",
       "        vertical-align: top;\n",
       "    }\n",
       "\n",
       "    .dataframe thead th {\n",
       "        text-align: right;\n",
       "    }\n",
       "</style>\n",
       "<table border=\"1\" class=\"dataframe\">\n",
       "  <thead>\n",
       "    <tr style=\"text-align: right;\">\n",
       "      <th></th>\n",
       "      <th>PM25</th>\n",
       "      <th>PM10</th>\n",
       "      <th>O3</th>\n",
       "      <th>NO2</th>\n",
       "      <th>SO2</th>\n",
       "      <th>CO</th>\n",
       "    </tr>\n",
       "    <tr>\n",
       "      <th>date</th>\n",
       "      <th></th>\n",
       "      <th></th>\n",
       "      <th></th>\n",
       "      <th></th>\n",
       "      <th></th>\n",
       "      <th></th>\n",
       "    </tr>\n",
       "  </thead>\n",
       "  <tbody>\n",
       "    <tr>\n",
       "      <th>2014-01-31</th>\n",
       "      <td>137.666667</td>\n",
       "      <td>68.419355</td>\n",
       "      <td>27.258065</td>\n",
       "      <td>28.806452</td>\n",
       "      <td>14.419355</td>\n",
       "      <td>7.612903</td>\n",
       "    </tr>\n",
       "    <tr>\n",
       "      <th>2014-02-28</th>\n",
       "      <td>118.785714</td>\n",
       "      <td>47.250000</td>\n",
       "      <td>31.285714</td>\n",
       "      <td>19.000000</td>\n",
       "      <td>7.892857</td>\n",
       "      <td>5.928571</td>\n",
       "    </tr>\n",
       "    <tr>\n",
       "      <th>2014-03-31</th>\n",
       "      <td>127.322581</td>\n",
       "      <td>61.580645</td>\n",
       "      <td>39.612903</td>\n",
       "      <td>27.193548</td>\n",
       "      <td>8.741935</td>\n",
       "      <td>5.548387</td>\n",
       "    </tr>\n",
       "    <tr>\n",
       "      <th>2014-04-30</th>\n",
       "      <td>124.866667</td>\n",
       "      <td>55.300000</td>\n",
       "      <td>44.500000</td>\n",
       "      <td>24.566667</td>\n",
       "      <td>5.666667</td>\n",
       "      <td>4.966667</td>\n",
       "    </tr>\n",
       "    <tr>\n",
       "      <th>2014-05-31</th>\n",
       "      <td>136.322581</td>\n",
       "      <td>73.225806</td>\n",
       "      <td>65.225806</td>\n",
       "      <td>22.451613</td>\n",
       "      <td>6.322581</td>\n",
       "      <td>5.677419</td>\n",
       "    </tr>\n",
       "    <tr>\n",
       "      <th>...</th>\n",
       "      <td>...</td>\n",
       "      <td>...</td>\n",
       "      <td>...</td>\n",
       "      <td>...</td>\n",
       "      <td>...</td>\n",
       "      <td>...</td>\n",
       "    </tr>\n",
       "    <tr>\n",
       "      <th>2025-03-31</th>\n",
       "      <td>92.870968</td>\n",
       "      <td>43.225806</td>\n",
       "      <td>43.354839</td>\n",
       "      <td>17.161290</td>\n",
       "      <td>3.580645</td>\n",
       "      <td>5.806452</td>\n",
       "    </tr>\n",
       "    <tr>\n",
       "      <th>2025-04-30</th>\n",
       "      <td>100.233333</td>\n",
       "      <td>55.133333</td>\n",
       "      <td>62.566667</td>\n",
       "      <td>16.833333</td>\n",
       "      <td>4.066667</td>\n",
       "      <td>6.300000</td>\n",
       "    </tr>\n",
       "    <tr>\n",
       "      <th>2025-05-31</th>\n",
       "      <td>81.645161</td>\n",
       "      <td>39.225806</td>\n",
       "      <td>61.161290</td>\n",
       "      <td>11.741935</td>\n",
       "      <td>3.774194</td>\n",
       "      <td>5.225806</td>\n",
       "    </tr>\n",
       "    <tr>\n",
       "      <th>2025-06-30</th>\n",
       "      <td>68.400000</td>\n",
       "      <td>26.633333</td>\n",
       "      <td>54.666667</td>\n",
       "      <td>10.400000</td>\n",
       "      <td>3.200000</td>\n",
       "      <td>4.400000</td>\n",
       "    </tr>\n",
       "    <tr>\n",
       "      <th>2025-07-31</th>\n",
       "      <td>48.181818</td>\n",
       "      <td>24.600000</td>\n",
       "      <td>41.300000</td>\n",
       "      <td>5.000000</td>\n",
       "      <td>3.000000</td>\n",
       "      <td>3.800000</td>\n",
       "    </tr>\n",
       "  </tbody>\n",
       "</table>\n",
       "<p>139 rows × 6 columns</p>\n",
       "</div>"
      ],
      "text/plain": [
       "                  PM25       PM10         O3        NO2        SO2        CO\n",
       "date                                                                        \n",
       "2014-01-31  137.666667  68.419355  27.258065  28.806452  14.419355  7.612903\n",
       "2014-02-28  118.785714  47.250000  31.285714  19.000000   7.892857  5.928571\n",
       "2014-03-31  127.322581  61.580645  39.612903  27.193548   8.741935  5.548387\n",
       "2014-04-30  124.866667  55.300000  44.500000  24.566667   5.666667  4.966667\n",
       "2014-05-31  136.322581  73.225806  65.225806  22.451613   6.322581  5.677419\n",
       "...                ...        ...        ...        ...        ...       ...\n",
       "2025-03-31   92.870968  43.225806  43.354839  17.161290   3.580645  5.806452\n",
       "2025-04-30  100.233333  55.133333  62.566667  16.833333   4.066667  6.300000\n",
       "2025-05-31   81.645161  39.225806  61.161290  11.741935   3.774194  5.225806\n",
       "2025-06-30   68.400000  26.633333  54.666667  10.400000   3.200000  4.400000\n",
       "2025-07-31   48.181818  24.600000  41.300000   5.000000   3.000000  3.800000\n",
       "\n",
       "[139 rows x 6 columns]"
      ]
     },
     "execution_count": 9,
     "metadata": {},
     "output_type": "execute_result"
    }
   ],
   "source": [
    "monthly_pollution"
   ]
  },
  {
   "cell_type": "code",
   "execution_count": 10,
   "metadata": {},
   "outputs": [
    {
     "data": {
      "application/vnd.microsoft.datawrangler.viewer.v0+json": {
       "columns": [
        {
         "name": "date",
         "rawType": "datetime64[ns]",
         "type": "datetime"
        },
        {
         "name": "PM25",
         "rawType": "float64",
         "type": "float"
        },
        {
         "name": "PM10",
         "rawType": "float64",
         "type": "float"
        },
        {
         "name": "O3",
         "rawType": "float64",
         "type": "float"
        },
        {
         "name": "NO2",
         "rawType": "float64",
         "type": "float"
        },
        {
         "name": "SO2",
         "rawType": "float64",
         "type": "float"
        },
        {
         "name": "CO",
         "rawType": "float64",
         "type": "float"
        },
        {
         "name": "cpi",
         "rawType": "float64",
         "type": "float"
        }
       ],
       "ref": "b251a276-a451-4dac-b67a-c544aa8fa4db",
       "rows": [
        [
         "2016-01-31 00:00:00",
         "200.0",
         null,
         null,
         null,
         null,
         null,
         "102.5"
        ],
        [
         "2016-02-29 00:00:00",
         null,
         null,
         null,
         null,
         null,
         null,
         "102.8"
        ],
        [
         "2016-03-31 00:00:00",
         "131.1764705882353",
         "60.333333333333336",
         "44.05555555555556",
         "24.11111111111111",
         "8.11111111111111",
         "5.0",
         "103.5"
        ],
        [
         "2016-04-30 00:00:00",
         "127.73333333333333",
         "60.8",
         "54.03333333333333",
         "25.433333333333334",
         "6.466666666666667",
         "5.633333333333334",
         "103.4"
        ],
        [
         "2016-05-31 00:00:00",
         "120.12903225806451",
         "59.903225806451616",
         "56.74193548387097",
         "19.741935483870968",
         "5.419354838709677",
         "6.0",
         "103.0"
        ],
        [
         "2016-06-30 00:00:00",
         "100.5",
         "44.96666666666667",
         "51.0",
         "18.2",
         "4.6",
         "5.333333333333333",
         "103.2"
        ],
        [
         "2016-07-31 00:00:00",
         "96.58064516129032",
         "49.354838709677416",
         "65.45161290322581",
         "16.322580645161292",
         "3.5161290322580645",
         "5.741935483870968",
         "103.4"
        ],
        [
         "2016-08-31 00:00:00",
         "64.41935483870968",
         "29.903225806451612",
         "43.38709677419355",
         "10.35483870967742",
         "4.032258064516129",
         "5.161290322580645",
         "103.0"
        ],
        [
         "2016-09-30 00:00:00",
         "84.83333333333333",
         "39.5",
         "48.0",
         "16.833333333333332",
         "4.766666666666667",
         "5.6",
         "103.6"
        ],
        [
         "2016-10-31 00:00:00",
         "67.70967741935483",
         "33.516129032258064",
         "35.67741935483871",
         "15.741935483870968",
         "5.064516129032258",
         "4.516129032258065",
         "103.5"
        ],
        [
         "2016-11-30 00:00:00",
         "115.53333333333333",
         "45.733333333333334",
         "28.3",
         "28.533333333333335",
         "7.6",
         "6.533333333333333",
         "103.7"
        ],
        [
         "2016-12-31 00:00:00",
         "130.83870967741936",
         "56.58064516129032",
         "25.516129032258064",
         "31.483870967741936",
         "8.290322580645162",
         "8.67741935483871",
         "103.3"
        ],
        [
         "2017-01-31 00:00:00",
         "123.2258064516129",
         "47.064516129032256",
         "29.225806451612904",
         "22.096774193548388",
         "6.967741935483871",
         "7.129032258064516",
         "103.6"
        ],
        [
         "2017-02-28 00:00:00",
         "123.57142857142857",
         "49.857142857142854",
         "37.214285714285715",
         "23.142857142857142",
         "6.428571428571429",
         "6.428571428571429",
         "101.6"
        ],
        [
         "2017-03-31 00:00:00",
         "126.06451612903226",
         "49.064516129032256",
         "43.225806451612904",
         "24.06451612903226",
         "6.225806451612903",
         "5.580645161290323",
         "101.4"
        ],
        [
         "2017-04-30 00:00:00",
         "123.46666666666667",
         "58.166666666666664",
         "57.13333333333333",
         "26.166666666666668",
         "5.5",
         "6.2",
         "101.6"
        ],
        [
         "2017-05-31 00:00:00",
         "92.87096774193549",
         "50.70967741935484",
         "59.41935483870968",
         "18.032258064516128",
         "4.0",
         "5.0",
         "101.8"
        ],
        [
         "2017-06-30 00:00:00",
         "87.46666666666667",
         "41.8",
         "56.0",
         "17.066666666666666",
         "3.1333333333333333",
         "5.266666666666667",
         "101.5"
        ],
        [
         "2017-07-31 00:00:00",
         "85.7741935483871",
         "46.0",
         "81.2258064516129",
         "15.419354838709678",
         "3.466666666666667",
         "5.225806451612903",
         "101.1"
        ],
        [
         "2017-08-31 00:00:00",
         "78.64516129032258",
         "40.935483870967744",
         "67.19354838709677",
         "13.387096774193548",
         "3.161290322580645",
         "5.935483870967742",
         "101.7"
        ],
        [
         "2017-09-30 00:00:00",
         "73.92307692307692",
         "36.03846153846154",
         "50.03846153846154",
         "16.153846153846153",
         "3.769230769230769",
         "6.038461538461538",
         "101.7"
        ],
        [
         "2017-10-31 00:00:00",
         "76.64516129032258",
         "35.96774193548387",
         "41.32258064516129",
         "14.161290322580646",
         "3.838709677419355",
         "5.548387096774194",
         "101.5"
        ],
        [
         "2017-11-30 00:00:00",
         "104.83333333333333",
         "51.266666666666666",
         "31.366666666666667",
         "27.033333333333335",
         "5.433333333333334",
         "6.266666666666667",
         "101.2"
        ],
        [
         "2017-12-31 00:00:00",
         "148.7741935483871",
         "59.70967741935484",
         "25.129032258064516",
         "30.322580645161292",
         "5.870967741935484",
         "8.0",
         "101.5"
        ],
        [
         "2018-01-31 00:00:00",
         "133.51612903225808",
         "50.645161290322584",
         "25.258064516129032",
         "25.548387096774192",
         "5.612903225806452",
         "7.774193548387097",
         "101.1"
        ],
        [
         "2018-02-28 00:00:00",
         "121.57142857142857",
         "49.464285714285715",
         "36.32142857142857",
         "20.607142857142858",
         "5.285714285714286",
         "6.142857142857143",
         "102.6"
        ],
        [
         "2018-03-31 00:00:00",
         "113.51612903225806",
         "45.516129032258064",
         "42.74193548387097",
         "21.419354838709676",
         "4.096774193548387",
         "4.870967741935484",
         "101.6"
        ],
        [
         "2018-04-30 00:00:00",
         "133.7",
         "61.36666666666667",
         "58.1",
         "22.6",
         "5.133333333333334",
         "5.0",
         "101.4"
        ],
        [
         "2018-05-31 00:00:00",
         "116.80645161290323",
         "51.38709677419355",
         "60.54838709677419",
         "18.322580645161292",
         "3.5161290322580645",
         "4.967741935483871",
         "101.4"
        ],
        [
         "2018-06-30 00:00:00",
         "102.2",
         "39.1",
         "64.86666666666666",
         "15.0",
         "3.966666666666667",
         "4.066666666666666",
         "101.2"
        ],
        [
         "2018-07-31 00:00:00",
         "78.48387096774194",
         "36.25806451612903",
         "23.333333333333332",
         "10.96774193548387",
         "2.935483870967742",
         "4.433333333333334",
         "101.3"
        ],
        [
         "2018-08-31 00:00:00",
         "72.90322580645162",
         "33.45161290322581",
         "38.857142857142854",
         "9.806451612903226",
         "2.2580645161290325",
         "4.483870967741935",
         "101.8"
        ],
        [
         "2018-09-30 00:00:00",
         "96.6",
         "34.733333333333334",
         "50.0",
         "14.866666666666667",
         "2.7666666666666666",
         "5.266666666666667",
         "101.5"
        ],
        [
         "2018-10-31 00:00:00",
         "95.90322580645162",
         "37.903225806451616",
         "45.096774193548384",
         "16.870967741935484",
         "3.6129032258064515",
         "3.935483870967742",
         "102.2"
        ],
        [
         "2018-11-30 00:00:00",
         "114.5",
         "39.96666666666667",
         "32.06666666666667",
         "22.566666666666666",
         "2.533333333333333",
         "5.1",
         "101.9"
        ],
        [
         "2018-12-31 00:00:00",
         "107.25806451612904",
         "41.266666666666666",
         "21.266666666666666",
         "21.8",
         "3.1666666666666665",
         "4.833333333333333",
         "101.2"
        ],
        [
         "2019-01-31 00:00:00",
         "125.8",
         "51.903225806451616",
         "28.161290322580644",
         "28.516129032258064",
         "4.612903225806452",
         "6.741935483870968",
         "101.1"
        ],
        [
         "2019-02-28 00:00:00",
         "111.32142857142857",
         "46.607142857142854",
         "31.607142857142858",
         "18.0",
         "2.7142857142857144",
         "5.214285714285714",
         "101.7"
        ],
        [
         "2019-03-31 00:00:00",
         "132.0",
         "56.70967741935484",
         "43.38709677419355",
         "26.129032258064516",
         "2.870967741935484",
         "7.064516129032258",
         "102.2"
        ],
        [
         "2019-04-30 00:00:00",
         "111.46666666666667",
         "48.5",
         "47.766666666666666",
         "23.166666666666668",
         "2.5",
         "6.833333333333333",
         "102.4"
        ],
        [
         "2019-05-31 00:00:00",
         "105.16129032258064",
         "51.61290322580645",
         "63.096774193548384",
         "19.096774193548388",
         "2.5806451612903225",
         "5.774193548387097",
         "102.6"
        ],
        [
         "2019-06-30 00:00:00",
         "96.13333333333334",
         "35.46666666666667",
         "55.06666666666667",
         "12.8",
         "1.8",
         "4.833333333333333",
         "102.7"
        ],
        [
         "2019-07-31 00:00:00",
         "89.38709677419355",
         "36.193548387096776",
         "55.0",
         "13.387096774193548",
         "1.6774193548387097",
         "4.129032258064516",
         "102.8"
        ],
        [
         "2019-08-31 00:00:00",
         "84.16129032258064",
         "37.806451612903224",
         "53.12903225806452",
         "13.161290322580646",
         "1.967741935483871",
         "5.806451612903226",
         "102.3"
        ],
        [
         "2019-09-30 00:00:00",
         "87.06666666666666",
         "36.2",
         "45.833333333333336",
         "15.833333333333334",
         "2.3333333333333335",
         "5.266666666666667",
         "102.2"
        ],
        [
         "2019-10-31 00:00:00",
         "96.80645161290323",
         "52.38709677419355",
         "41.70967741935484",
         "18.838709677419356",
         "3.4516129032258065",
         "4.903225806451613",
         "102.6"
        ],
        [
         "2019-11-30 00:00:00",
         "88.36666666666666",
         "49.266666666666666",
         "35.43333333333333",
         "20.633333333333333",
         "3.7",
         "5.666666666666667",
         "103.2"
        ],
        [
         "2019-12-31 00:00:00",
         "117.6",
         "49.3448275862069",
         "24.896551724137932",
         "30.275862068965516",
         "4.071428571428571",
         "8.0",
         "103.8"
        ],
        [
         "2020-01-31 00:00:00",
         "120.9",
         "48.29032258064516",
         "27.967741935483872",
         "18.548387096774192",
         "3.096774193548387",
         "8.096774193548388",
         "104.3"
        ],
        [
         "2020-02-29 00:00:00",
         "88.93103448275862",
         "33.96551724137931",
         "34.758620689655174",
         "10.206896551724139",
         "2.392857142857143",
         "4.724137931034483",
         "103.0"
        ]
       ],
       "shape": {
        "columns": 7,
        "rows": 114
       }
      },
      "text/html": [
       "<div>\n",
       "<style scoped>\n",
       "    .dataframe tbody tr th:only-of-type {\n",
       "        vertical-align: middle;\n",
       "    }\n",
       "\n",
       "    .dataframe tbody tr th {\n",
       "        vertical-align: top;\n",
       "    }\n",
       "\n",
       "    .dataframe thead th {\n",
       "        text-align: right;\n",
       "    }\n",
       "</style>\n",
       "<table border=\"1\" class=\"dataframe\">\n",
       "  <thead>\n",
       "    <tr style=\"text-align: right;\">\n",
       "      <th></th>\n",
       "      <th>PM25</th>\n",
       "      <th>PM10</th>\n",
       "      <th>O3</th>\n",
       "      <th>NO2</th>\n",
       "      <th>SO2</th>\n",
       "      <th>CO</th>\n",
       "      <th>cpi</th>\n",
       "    </tr>\n",
       "    <tr>\n",
       "      <th>date</th>\n",
       "      <th></th>\n",
       "      <th></th>\n",
       "      <th></th>\n",
       "      <th></th>\n",
       "      <th></th>\n",
       "      <th></th>\n",
       "      <th></th>\n",
       "    </tr>\n",
       "  </thead>\n",
       "  <tbody>\n",
       "    <tr>\n",
       "      <th>2016-01-31</th>\n",
       "      <td>200.000000</td>\n",
       "      <td>NaN</td>\n",
       "      <td>NaN</td>\n",
       "      <td>NaN</td>\n",
       "      <td>NaN</td>\n",
       "      <td>NaN</td>\n",
       "      <td>102.5</td>\n",
       "    </tr>\n",
       "    <tr>\n",
       "      <th>2016-02-29</th>\n",
       "      <td>NaN</td>\n",
       "      <td>NaN</td>\n",
       "      <td>NaN</td>\n",
       "      <td>NaN</td>\n",
       "      <td>NaN</td>\n",
       "      <td>NaN</td>\n",
       "      <td>102.8</td>\n",
       "    </tr>\n",
       "    <tr>\n",
       "      <th>2016-03-31</th>\n",
       "      <td>131.176471</td>\n",
       "      <td>60.333333</td>\n",
       "      <td>44.055556</td>\n",
       "      <td>24.111111</td>\n",
       "      <td>8.111111</td>\n",
       "      <td>5.000000</td>\n",
       "      <td>103.5</td>\n",
       "    </tr>\n",
       "    <tr>\n",
       "      <th>2016-04-30</th>\n",
       "      <td>127.733333</td>\n",
       "      <td>60.800000</td>\n",
       "      <td>54.033333</td>\n",
       "      <td>25.433333</td>\n",
       "      <td>6.466667</td>\n",
       "      <td>5.633333</td>\n",
       "      <td>103.4</td>\n",
       "    </tr>\n",
       "    <tr>\n",
       "      <th>2016-05-31</th>\n",
       "      <td>120.129032</td>\n",
       "      <td>59.903226</td>\n",
       "      <td>56.741935</td>\n",
       "      <td>19.741935</td>\n",
       "      <td>5.419355</td>\n",
       "      <td>6.000000</td>\n",
       "      <td>103.0</td>\n",
       "    </tr>\n",
       "    <tr>\n",
       "      <th>...</th>\n",
       "      <td>...</td>\n",
       "      <td>...</td>\n",
       "      <td>...</td>\n",
       "      <td>...</td>\n",
       "      <td>...</td>\n",
       "      <td>...</td>\n",
       "      <td>...</td>\n",
       "    </tr>\n",
       "    <tr>\n",
       "      <th>2025-02-28</th>\n",
       "      <td>104.678571</td>\n",
       "      <td>48.607143</td>\n",
       "      <td>31.892857</td>\n",
       "      <td>15.464286</td>\n",
       "      <td>3.500000</td>\n",
       "      <td>6.428571</td>\n",
       "      <td>99.3</td>\n",
       "    </tr>\n",
       "    <tr>\n",
       "      <th>2025-03-31</th>\n",
       "      <td>92.870968</td>\n",
       "      <td>43.225806</td>\n",
       "      <td>43.354839</td>\n",
       "      <td>17.161290</td>\n",
       "      <td>3.580645</td>\n",
       "      <td>5.806452</td>\n",
       "      <td>100.2</td>\n",
       "    </tr>\n",
       "    <tr>\n",
       "      <th>2025-04-30</th>\n",
       "      <td>100.233333</td>\n",
       "      <td>55.133333</td>\n",
       "      <td>62.566667</td>\n",
       "      <td>16.833333</td>\n",
       "      <td>4.066667</td>\n",
       "      <td>6.300000</td>\n",
       "      <td>100.0</td>\n",
       "    </tr>\n",
       "    <tr>\n",
       "      <th>2025-05-31</th>\n",
       "      <td>81.645161</td>\n",
       "      <td>39.225806</td>\n",
       "      <td>61.161290</td>\n",
       "      <td>11.741935</td>\n",
       "      <td>3.774194</td>\n",
       "      <td>5.225806</td>\n",
       "      <td>100.0</td>\n",
       "    </tr>\n",
       "    <tr>\n",
       "      <th>2025-06-30</th>\n",
       "      <td>68.400000</td>\n",
       "      <td>26.633333</td>\n",
       "      <td>54.666667</td>\n",
       "      <td>10.400000</td>\n",
       "      <td>3.200000</td>\n",
       "      <td>4.400000</td>\n",
       "      <td>100.2</td>\n",
       "    </tr>\n",
       "  </tbody>\n",
       "</table>\n",
       "<p>114 rows × 7 columns</p>\n",
       "</div>"
      ],
      "text/plain": [
       "                  PM25       PM10         O3        NO2       SO2        CO  \\\n",
       "date                                                                          \n",
       "2016-01-31  200.000000        NaN        NaN        NaN       NaN       NaN   \n",
       "2016-02-29         NaN        NaN        NaN        NaN       NaN       NaN   \n",
       "2016-03-31  131.176471  60.333333  44.055556  24.111111  8.111111  5.000000   \n",
       "2016-04-30  127.733333  60.800000  54.033333  25.433333  6.466667  5.633333   \n",
       "2016-05-31  120.129032  59.903226  56.741935  19.741935  5.419355  6.000000   \n",
       "...                ...        ...        ...        ...       ...       ...   \n",
       "2025-02-28  104.678571  48.607143  31.892857  15.464286  3.500000  6.428571   \n",
       "2025-03-31   92.870968  43.225806  43.354839  17.161290  3.580645  5.806452   \n",
       "2025-04-30  100.233333  55.133333  62.566667  16.833333  4.066667  6.300000   \n",
       "2025-05-31   81.645161  39.225806  61.161290  11.741935  3.774194  5.225806   \n",
       "2025-06-30   68.400000  26.633333  54.666667  10.400000  3.200000  4.400000   \n",
       "\n",
       "              cpi  \n",
       "date               \n",
       "2016-01-31  102.5  \n",
       "2016-02-29  102.8  \n",
       "2016-03-31  103.5  \n",
       "2016-04-30  103.4  \n",
       "2016-05-31  103.0  \n",
       "...           ...  \n",
       "2025-02-28   99.3  \n",
       "2025-03-31  100.2  \n",
       "2025-04-30  100.0  \n",
       "2025-05-31  100.0  \n",
       "2025-06-30  100.2  \n",
       "\n",
       "[114 rows x 7 columns]"
      ]
     },
     "execution_count": 10,
     "metadata": {},
     "output_type": "execute_result"
    }
   ],
   "source": [
    "monthly_data"
   ]
  },
  {
   "cell_type": "code",
   "execution_count": 11,
   "metadata": {},
   "outputs": [
    {
     "name": "stdout",
     "output_type": "stream",
     "text": [
      "Monthly NO2 is non-stationary. Differencing applied.\n",
      "CPI is non-stationary. Differencing applied.\n"
     ]
    },
    {
     "data": {
      "text/plain": [
       "<Figure size 1000x600 with 0 Axes>"
      ]
     },
     "metadata": {},
     "output_type": "display_data"
    },
    {
     "data": {
      "image/png": "[encoded data removed]",
      "text/plain": [
       "<Figure size 640x480 with 1 Axes>"
      ]
     },
     "metadata": {},
     "output_type": "display_data"
    }
   ],
   "source": [
    "def ccf(pollutant):\n",
    "    # Check & Enforce Stationarity \n",
    "    def make_stationary(series, name):\n",
    "        result = adfuller(series.dropna())\n",
    "        if result[1] > 0.05:\n",
    "            print(f\"{name} is non-stationary. Differencing applied.\")\n",
    "            return series.diff().dropna()\n",
    "        else:\n",
    "            print(f\"{name} is stationary.\")\n",
    "            return series.dropna()\n",
    "\n",
    "    pollution_diff = make_stationary(monthly_data[pollutant], \"Monthly {pollutant}\".format(pollutant=pollutant))\n",
    "    pmi_diff = make_stationary(monthly_data['cpi'], \"CPI\")\n",
    "\n",
    "    # Align Differenced Series After Differencing\n",
    "    aligned = pd.concat([pollution_diff, pmi_diff], axis=1).dropna()\n",
    "\n",
    "    # Plot CCF\n",
    "    plt.figure(figsize=(10, 6))\n",
    "    plot_ccf(aligned[pollutant], aligned['cpi'], lags=12)\n",
    "    plt.title(\"Monthly CCF: {pollutant} vs CPI\".format(pollutant=pollutant))\n",
    "    plt.xlabel(\"Lag (months)\")\n",
    "    plt.ylabel(\"Cross-correlation\")\n",
    "    plt.axhline(y=0.2, linestyle='--', color='gray')\n",
    "    plt.axhline(y=-0.2, linestyle='--', color='gray')\n",
    "    plt.grid(True)\n",
    "    plt.show()\n",
    "\n",
    "# for col in pollution_df:\n",
    "#     ccf(col)\n",
    "\n",
    "ccf(pollutant)"
   ]
  },
  {
   "cell_type": "code",
   "execution_count": 12,
   "metadata": {},
   "outputs": [
    {
     "data": {
      "text/plain": [
       "<Figure size 1000x600 with 0 Axes>"
      ]
     },
     "metadata": {},
     "output_type": "display_data"
    },
    {
     "data": {
      "image/png": "[encoded data removed]",
      "text/plain": [
       "<Figure size 640x480 with 1 Axes>"
      ]
     },
     "metadata": {},
     "output_type": "display_data"
    }
   ],
   "source": [
    "import pandas as pd\n",
    "from statsmodels.tsa.arima.model import ARIMA\n",
    "import matplotlib.pyplot as plt\n",
    "from statsmodels.graphics.tsaplots import plot_acf, plot_ccf\n",
    "\n",
    "# Ensure monthly_data has pollution and PMI\n",
    "def prewhitening(pollutant):\n",
    "    pollution = monthly_data[pollutant].dropna()\n",
    "    pmi = monthly_data['cpi'].dropna()\n",
    "\n",
    "    # Align the series\n",
    "    data = pd.concat([pollution, pmi], axis=1).dropna()\n",
    "\n",
    "    # Fit ARIMA model to pollution\n",
    "    model = ARIMA(data[pollutant], order=(1, 0, 0))  # AR(1) for simplicity; refine this via AIC later\n",
    "    model_fit = model.fit()\n",
    "\n",
    "    # Extract residuals (white noise version of pollution)\n",
    "    pollution_resid = model_fit.resid\n",
    "\n",
    "    # Get the AR coefficient (phi_1)\n",
    "    phi = model_fit.arparams[0]\n",
    "\n",
    "    # Apply the same filter to PMI: x_t - phi * x_{t-1}\n",
    "    pmi_filtered = data['cpi'].copy()\n",
    "    pmi_filtered.iloc[1:] = pmi_filtered.iloc[1:] - phi * pmi_filtered.shift(1).iloc[1:]\n",
    "\n",
    "    # Align residuals and filtered series\n",
    "    aligned = pd.concat([pollution_resid, pmi_filtered], axis=1).dropna()\n",
    "    aligned.columns = ['pollution_resid', 'pmi_filtered']\n",
    "\n",
    "    plt.figure(figsize=(10, 6))\n",
    "    plot_ccf(aligned['pollution_resid'], aligned['pmi_filtered'], lags=12)\n",
    "    plt.title(\"Prewhitened CCF: Pollution → CPI\")\n",
    "    plt.xlabel(\"Lag (months)\")\n",
    "    plt.ylabel(\"Cross-correlation\")\n",
    "    plt.grid(True)\n",
    "    plt.axhline(y=0.2, linestyle='--', color='gray')\n",
    "    plt.axhline(y=-0.2, linestyle='--', color='gray')\n",
    "    plt.show()\n",
    "\n",
    "\n",
    "prewhitening(pollutant)"
   ]
  },
  {
   "cell_type": "code",
   "execution_count": 13,
   "metadata": {},
   "outputs": [],
   "source": [
    "# GRANGER-CAUSALITY"
   ]
  },
  {
   "cell_type": "code",
   "execution_count": 14,
   "metadata": {},
   "outputs": [
    {
     "name": "stdout",
     "output_type": "stream",
     "text": [
      "\n",
      "--- Granger Causality Test: NO2 → PMI ---\n",
      "\n",
      "Granger Causality\n",
      "number of lags (no zero) 1\n",
      "ssr based F test:         F=0.0054  , p=0.9413  , df_denom=107, df_num=1\n",
      "ssr based chi2 test:   chi2=0.0056  , p=0.9404  , df=1\n",
      "likelihood ratio test: chi2=0.0056  , p=0.9404  , df=1\n",
      "parameter F test:         F=0.0054  , p=0.9413  , df_denom=107, df_num=1\n",
      "\n",
      "Granger Causality\n",
      "number of lags (no zero) 2\n",
      "ssr based F test:         F=0.1375  , p=0.8717  , df_denom=104, df_num=2\n",
      "ssr based chi2 test:   chi2=0.2881  , p=0.8658  , df=2\n",
      "likelihood ratio test: chi2=0.2877  , p=0.8660  , df=2\n",
      "parameter F test:         F=0.1375  , p=0.8717  , df_denom=104, df_num=2\n",
      "\n",
      "Granger Causality\n",
      "number of lags (no zero) 3\n",
      "ssr based F test:         F=0.3141  , p=0.8152  , df_denom=101, df_num=3\n",
      "ssr based chi2 test:   chi2=1.0075  , p=0.7994  , df=3\n",
      "likelihood ratio test: chi2=1.0028  , p=0.8006  , df=3\n",
      "parameter F test:         F=0.3141  , p=0.8152  , df_denom=101, df_num=3\n",
      "\n",
      "Granger Causality\n",
      "number of lags (no zero) 4\n",
      "ssr based F test:         F=0.3017  , p=0.8762  , df_denom=98, df_num=4\n",
      "ssr based chi2 test:   chi2=1.3176  , p=0.8584  , df=4\n",
      "likelihood ratio test: chi2=1.3095  , p=0.8598  , df=4\n",
      "parameter F test:         F=0.3017  , p=0.8762  , df_denom=98, df_num=4\n",
      "\n",
      "Granger Causality\n",
      "number of lags (no zero) 5\n",
      "ssr based F test:         F=0.1916  , p=0.9651  , df_denom=95, df_num=5\n",
      "ssr based chi2 test:   chi2=1.0689  , p=0.9568  , df=5\n",
      "likelihood ratio test: chi2=1.0635  , p=0.9573  , df=5\n",
      "parameter F test:         F=0.1916  , p=0.9651  , df_denom=95, df_num=5\n",
      "\n",
      "Granger Causality\n",
      "number of lags (no zero) 6\n",
      "ssr based F test:         F=0.1909  , p=0.9787  , df_denom=92, df_num=6\n",
      "ssr based chi2 test:   chi2=1.3070  , p=0.9713  , df=6\n",
      "likelihood ratio test: chi2=1.2989  , p=0.9717  , df=6\n",
      "parameter F test:         F=0.1909  , p=0.9787  , df_denom=92, df_num=6\n",
      "\n",
      "Granger Causality\n",
      "number of lags (no zero) 7\n",
      "ssr based F test:         F=0.1521  , p=0.9933  , df_denom=89, df_num=7\n",
      "ssr based chi2 test:   chi2=1.2444  , p=0.9899  , df=7\n",
      "likelihood ratio test: chi2=1.2370  , p=0.9901  , df=7\n",
      "parameter F test:         F=0.1521  , p=0.9933  , df_denom=89, df_num=7\n",
      "\n",
      "Granger Causality\n",
      "number of lags (no zero) 8\n",
      "ssr based F test:         F=0.2359  , p=0.9830  , df_denom=86, df_num=8\n",
      "ssr based chi2 test:   chi2=2.2605  , p=0.9720  , df=8\n",
      "likelihood ratio test: chi2=2.2360  , p=0.9729  , df=8\n",
      "parameter F test:         F=0.2359  , p=0.9830  , df_denom=86, df_num=8\n",
      "\n",
      "Granger Causality\n",
      "number of lags (no zero) 9\n",
      "ssr based F test:         F=0.2745  , p=0.9799  , df_denom=83, df_num=9\n",
      "ssr based chi2 test:   chi2=3.0360  , p=0.9629  , df=9\n",
      "likelihood ratio test: chi2=2.9917  , p=0.9646  , df=9\n",
      "parameter F test:         F=0.2745  , p=0.9799  , df_denom=83, df_num=9\n",
      "\n",
      "Granger Causality\n",
      "number of lags (no zero) 10\n",
      "ssr based F test:         F=0.4989  , p=0.8860  , df_denom=80, df_num=10\n",
      "ssr based chi2 test:   chi2=6.2984  , p=0.7896  , df=10\n",
      "likelihood ratio test: chi2=6.1098  , p=0.8060  , df=10\n",
      "parameter F test:         F=0.4989  , p=0.8860  , df_denom=80, df_num=10\n",
      "\n",
      "Granger Causality\n",
      "number of lags (no zero) 11\n",
      "ssr based F test:         F=1.0167  , p=0.4401  , df_denom=77, df_num=11\n",
      "ssr based chi2 test:   chi2=14.5239 , p=0.2053  , df=11\n",
      "likelihood ratio test: chi2=13.5613 , p=0.2582  , df=11\n",
      "parameter F test:         F=1.0167  , p=0.4401  , df_denom=77, df_num=11\n",
      "\n",
      "Granger Causality\n",
      "number of lags (no zero) 12\n",
      "ssr based F test:         F=0.7720  , p=0.6768  , df_denom=74, df_num=12\n",
      "ssr based chi2 test:   chi2=12.3940 , p=0.4146  , df=12\n",
      "likelihood ratio test: chi2=11.6774 , p=0.4719  , df=12\n",
      "parameter F test:         F=0.7720  , p=0.6768  , df_denom=74, df_num=12\n"
     ]
    },
    {
     "name": "stderr",
     "output_type": "stream",
     "text": [
      "/opt/anaconda3/lib/python3.12/site-packages/statsmodels/tsa/stattools.py:1556: FutureWarning: verbose is deprecated since functions should not print results\n",
      "  warnings.warn(\n"
     ]
    }
   ],
   "source": [
    "from statsmodels.tsa.stattools import adfuller, grangercausalitytests\n",
    "import pandas as pd\n",
    "\n",
    "def granger_test(pollutant, max_lag=12):\n",
    "    \"\"\"\n",
    "    Perform Granger causality test: Does pollutant Granger-cause PMI?\n",
    "    \"\"\"\n",
    "    # Step 1: Drop NA and extract the relevant columns\n",
    "    data = monthly_data[[pollutant, 'cpi']].dropna()\n",
    "\n",
    "    # Step 2: Make both series stationary\n",
    "    def make_stationary(series):\n",
    "        result = adfuller(series.dropna())\n",
    "        if result[1] > 0.05:\n",
    "            return series.diff().dropna()\n",
    "        else:\n",
    "            return series.dropna()\n",
    "    \n",
    "    pollution_stationary = make_stationary(data[pollutant])\n",
    "    pmi_stationary = make_stationary(data['cpi'])\n",
    "\n",
    "    # Step 3: Align the two differenced series\n",
    "    aligned = pd.concat([pollution_stationary, pmi_stationary], axis=1).dropna()\n",
    "    aligned.columns = [pollutant, 'cpi']\n",
    "\n",
    "    # Step 4: Run Granger causality test\n",
    "    print(f\"\\n--- Granger Causality Test: {pollutant} → PMI ---\")\n",
    "    grangercausalitytests(aligned, maxlag=max_lag, verbose=True)\n",
    "\n",
    "granger_test(pollutant)"
   ]
  },
  {
   "cell_type": "code",
   "execution_count": 15,
   "metadata": {},
   "outputs": [
    {
     "name": "stdout",
     "output_type": "stream",
     "text": [
      "Lag Order Selection:\n",
      "  VAR Order Selection (* highlights the minimums)  \n",
      "==================================================\n",
      "       AIC         BIC         FPE         HQIC   \n",
      "--------------------------------------------------\n",
      "0        2.323      2.376*       10.21       2.344\n",
      "1        2.389       2.546       10.90       2.453\n",
      "2        2.438       2.700       11.45       2.544\n",
      "3        2.481       2.848       11.96       2.630\n",
      "4        2.511       2.983       12.33       2.702\n",
      "5        2.535       3.112       12.64       2.769\n",
      "6        2.575       3.256       13.17       2.851\n",
      "7        2.585       3.371       13.32       2.903\n",
      "8        2.486       3.377       12.09       2.846\n",
      "9        2.522       3.518       12.57       2.925\n",
      "10       2.178       3.279       8.941       2.623\n",
      "11       1.889       3.095       6.726       2.377\n",
      "12      1.541*       2.851      4.773*      2.071*\n",
      "--------------------------------------------------\n",
      "  Summary of Regression Results   \n",
      "==================================\n",
      "Model:                         VAR\n",
      "Method:                        OLS\n",
      "Date:           Fri, 18, Jul, 2025\n",
      "Time:                     13:25:40\n",
      "--------------------------------------------------------------------\n",
      "No. of Equations:         2.00000    BIC:                    2.85132\n",
      "Nobs:                     99.0000    HQIC:                   2.07095\n",
      "Log likelihood:          -307.212    FPE:                    4.77306\n",
      "AIC:                      1.54065    Det(Omega_mle):         3.04245\n",
      "--------------------------------------------------------------------\n",
      "Results for equation NO2\n",
      "==========================================================================\n",
      "             coefficient       std. error           t-stat            prob\n",
      "--------------------------------------------------------------------------\n",
      "const          -0.781789         0.363358           -2.152           0.031\n",
      "L1.NO2         -0.599341         0.117769           -5.089           0.000\n",
      "L1.cpi         -0.131373         0.588068           -0.223           0.823\n",
      "L2.NO2         -0.590143         0.123327           -4.785           0.000\n",
      "L2.cpi         -0.784858         0.558708           -1.405           0.160\n",
      "L3.NO2         -0.652542         0.114961           -5.676           0.000\n",
      "L3.cpi         -0.225447         0.558685           -0.404           0.687\n",
      "L4.NO2         -0.598766         0.126259           -4.742           0.000\n",
      "L4.cpi         -0.428674         0.578053           -0.742           0.458\n",
      "L5.NO2         -0.702697         0.117499           -5.980           0.000\n",
      "L5.cpi         -0.528307         0.578547           -0.913           0.361\n",
      "L6.NO2         -0.645836         0.124159           -5.202           0.000\n",
      "L6.cpi         -0.592100         0.575184           -1.029           0.303\n",
      "L7.NO2         -0.632060         0.123115           -5.134           0.000\n",
      "L7.cpi         -1.070478         0.568108           -1.884           0.060\n",
      "L8.NO2         -0.703070         0.120800           -5.820           0.000\n",
      "L8.cpi         -0.946292         0.588122           -1.609           0.108\n",
      "L9.NO2         -0.479068         0.125468           -3.818           0.000\n",
      "L9.cpi         -0.725308         0.591756           -1.226           0.220\n",
      "L10.NO2        -0.702881         0.112822           -6.230           0.000\n",
      "L10.cpi        -0.497197         0.568500           -0.875           0.382\n",
      "L11.NO2        -0.482700         0.121690           -3.967           0.000\n",
      "L11.cpi        -0.638892         0.575987           -1.109           0.267\n",
      "L12.NO2         0.060176         0.112955            0.533           0.594\n",
      "L12.cpi        -0.324681         0.581349           -0.558           0.577\n",
      "==========================================================================\n",
      "\n",
      "Results for equation cpi\n",
      "==========================================================================\n",
      "             coefficient       std. error           t-stat            prob\n",
      "--------------------------------------------------------------------------\n",
      "const          -0.023375         0.060359           -0.387           0.699\n",
      "L1.NO2          0.009071         0.019563            0.464           0.643\n",
      "L1.cpi         -0.027152         0.097687           -0.278           0.781\n",
      "L2.NO2         -0.004322         0.020486           -0.211           0.833\n",
      "L2.cpi         -0.113992         0.092810           -1.228           0.219\n",
      "L3.NO2          0.000957         0.019097            0.050           0.960\n",
      "L3.cpi         -0.143111         0.092806           -1.542           0.123\n",
      "L4.NO2          0.009644         0.020973            0.460           0.646\n",
      "L4.cpi         -0.008908         0.096023           -0.093           0.926\n",
      "L5.NO2          0.014610         0.019518            0.749           0.454\n",
      "L5.cpi          0.006415         0.096105            0.067           0.947\n",
      "L6.NO2          0.011297         0.020625            0.548           0.584\n",
      "L6.cpi          0.196815         0.095546            2.060           0.039\n",
      "L7.NO2          0.004220         0.020451            0.206           0.837\n",
      "L7.cpi         -0.117184         0.094371           -1.242           0.214\n",
      "L8.NO2          0.010447         0.020067            0.521           0.603\n",
      "L8.cpi          0.197423         0.097696            2.021           0.043\n",
      "L9.NO2          0.013510         0.020842            0.648           0.517\n",
      "L9.cpi          0.052754         0.098299            0.537           0.592\n",
      "L10.NO2         0.004280         0.018741            0.228           0.819\n",
      "L10.cpi        -0.175185         0.094436           -1.855           0.064\n",
      "L11.NO2         0.006432         0.020215            0.318           0.750\n",
      "L11.cpi         0.087033         0.095680            0.910           0.363\n",
      "L12.NO2         0.009979         0.018763            0.532           0.595\n",
      "L12.cpi        -0.529153         0.096571           -5.479           0.000\n",
      "==========================================================================\n",
      "\n",
      "Correlation matrix of residuals\n",
      "            NO2       cpi\n",
      "NO2    1.000000 -0.282079\n",
      "cpi   -0.282079  1.000000\n",
      "\n",
      "\n",
      "\n"
     ]
    },
    {
     "name": "stderr",
     "output_type": "stream",
     "text": [
      "/opt/anaconda3/lib/python3.12/site-packages/statsmodels/tsa/base/tsa_model.py:473: ValueWarning: No frequency information was provided, so inferred frequency ME will be used.\n",
      "  self._init_dates(dates, freq)\n"
     ]
    },
    {
     "data": {
      "image/png": "[encoded data removed]",
      "text/plain": [
       "<Figure size 1000x1000 with 4 Axes>"
      ]
     },
     "metadata": {},
     "output_type": "display_data"
    },
    {
     "data": {
      "image/png": "[encoded data removed]",
      "text/plain": [
       "<Figure size 1000x1000 with 2 Axes>"
      ]
     },
     "metadata": {},
     "output_type": "display_data"
    }
   ],
   "source": [
    "from statsmodels.tsa.api import VAR\n",
    "from statsmodels.tsa.stattools import adfuller\n",
    "import matplotlib.pyplot as plt\n",
    "\n",
    "# Step 1: Ensure Stationarity\n",
    "def make_stationary(series):\n",
    "    result = adfuller(series.dropna())\n",
    "    return series.diff().dropna() if result[1] > 0.05 else series.dropna()\n",
    "\n",
    "# Prepare and align\n",
    "data = monthly_data[[pollutant, 'cpi']].dropna()\n",
    "data[pollutant] = make_stationary(data[pollutant])\n",
    "data['cpi'] = make_stationary(data['cpi'])\n",
    "data = data.dropna()\n",
    "\n",
    "# Step 2: Select optimal lag length\n",
    "model = VAR(data)\n",
    "lag_results = model.select_order(12)\n",
    "print(\"Lag Order Selection:\\n\", lag_results.summary())\n",
    "\n",
    "# Step 3: Fit the VAR model\n",
    "best_lag = lag_results.selected_orders['aic']  # or use 'bic'\n",
    "var_model = model.fit(best_lag)\n",
    "print(var_model.summary())\n",
    "\n",
    "# Step 4: Impulse Response Function\n",
    "irf = var_model.irf(12)  # 12 months horizon\n",
    "irf.plot(orth=False)\n",
    "plt.suptitle(\"Impulse Response Functions\", fontsize=14)\n",
    "plt.show()\n",
    "\n",
    "# Step 5: Forecast Error Variance Decomposition\n",
    "fevd = var_model.fevd(12)\n",
    "fevd.plot()\n",
    "plt.suptitle(\"Forecast Error Variance Decomposition\", fontsize=14)\n",
    "plt.show()"
   ]
  }
 ],
 "metadata": {
  "kernelspec": {
   "display_name": "base",
   "language": "python",
   "name": "python3"
  },
  "language_info": {
   "codemirror_mode": {
    "name": "ipython",
    "version": 3
   },
   "file_extension": ".py",
   "mimetype": "text/x-python",
   "name": "python",
   "nbconvert_exporter": "python",
   "pygments_lexer": "ipython3",
   "version": "3.12.11"
  }
 },
 "nbformat": 4,
 "nbformat_minor": 2
}
